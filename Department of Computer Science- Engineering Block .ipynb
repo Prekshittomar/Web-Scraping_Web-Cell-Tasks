{
 "cells": [
  {
   "cell_type": "code",
   "execution_count": 1,
   "id": "d36d65bd-b0ec-4a07-bef9-594a1855440c",
   "metadata": {},
   "outputs": [],
   "source": [
    "import os\n",
    "from selenium.webdriver import Edge  # Correct import for Edge WebDriver\n",
    "from selenium.webdriver.edge.service import Service\n",
    "from selenium.webdriver.edge.options import Options\n",
    "from bs4 import BeautifulSoup"
   ]
  },
  {
   "cell_type": "code",
   "execution_count": 2,
   "id": "feb045b0-7d14-440d-9f88-5fc8e0b49a94",
   "metadata": {},
   "outputs": [],
   "source": [
    "user_agent = 'Mozilla/5.0 (Windows NT 10.0; Win64; x64) AppleWebKit/537.36 (KHTML, like Gecko) Chrome/128.0.0.0 Safari/537.36 Edg/128.0.0.0'\n",
    "\n",
    "# Path to your msedgedriver.exe\n",
    "edge_driver_path = os.path.join(os.getcwd(), 'msedgedriver.exe')\n",
    "\n",
    "# Create a Service object for Edge\n",
    "edge_service = Service(edge_driver_path)\n",
    "\n",
    "# Set up Edge options (e.g., user-agent)\n",
    "edge_options = Options()\n",
    "edge_options.add_argument(f'user-agent={user_agent}')\n",
    "\n",
    "# Initialize the Edge browser using correct WebDriver\n",
    "browser = Edge(service=edge_service, options=edge_options)"
   ]
  },
  {
   "cell_type": "code",
   "execution_count": 3,
   "id": "18d5c323-9d92-42fd-92cf-79faf40e1106",
   "metadata": {},
   "outputs": [],
   "source": [
    "browser.get('https://engineering.vips.edu/department/computer-science/faculty-directory')"
   ]
  },
  {
   "cell_type": "code",
   "execution_count": 8,
   "id": "d937f6c4-e0b9-432c-83ba-efc58593a4e8",
   "metadata": {},
   "outputs": [],
   "source": [
    "from selenium.webdriver.common.by import By\n",
    "\n",
    "element = browser.find_element(By.CSS_SELECTOR, \"div.MuiTypography-root.MuiTypography-h5.MuiTypography-gutterBottom.css-1puxygr\")\n"
   ]
  },
  {
   "cell_type": "code",
   "execution_count": 9,
   "id": "5932d198-7d0e-4095-85b5-472e9e42505e",
   "metadata": {},
   "outputs": [
    {
     "data": {
      "text/plain": [
       "'Dr Nihar Ranjan Roy'"
      ]
     },
     "execution_count": 9,
     "metadata": {},
     "output_type": "execute_result"
    }
   ],
   "source": [
    "element.text"
   ]
  },
  {
   "cell_type": "code",
   "execution_count": 10,
   "id": "68cd6423-690a-42b3-a11a-e9e482b3825f",
   "metadata": {},
   "outputs": [],
   "source": [
    "elements = browser.find_elements(By.CSS_SELECTOR, \"div.MuiTypography-root.MuiTypography-h5.MuiTypography-gutterBottom.css-1puxygr\")"
   ]
  },
  {
   "cell_type": "code",
   "execution_count": 11,
   "id": "80d4bda9-8cc5-41a7-a2d3-78f698906406",
   "metadata": {},
   "outputs": [
    {
     "data": {
      "text/plain": [
       "'Dr Adeel Hashmi'"
      ]
     },
     "execution_count": 11,
     "metadata": {},
     "output_type": "execute_result"
    }
   ],
   "source": [
    "elements[1].text"
   ]
  },
  {
   "cell_type": "code",
   "execution_count": 12,
   "id": "d8f8ddc1-fb10-403e-bf1c-308be2963916",
   "metadata": {},
   "outputs": [
    {
     "data": {
      "text/plain": [
       "23"
      ]
     },
     "execution_count": 12,
     "metadata": {},
     "output_type": "execute_result"
    }
   ],
   "source": [
    "Professors = []\n",
    "i=0\n",
    "len(elements)"
   ]
  },
  {
   "cell_type": "code",
   "execution_count": 13,
   "id": "e04ca273-eb95-46de-b042-293f42cf82eb",
   "metadata": {},
   "outputs": [],
   "source": [
    "for i in range(23):\n",
    "    Professors.append(elements[i].text)"
   ]
  },
  {
   "cell_type": "code",
   "execution_count": 14,
   "id": "b761a50c-9f9f-4403-8fea-2ca96be176e8",
   "metadata": {},
   "outputs": [
    {
     "data": {
      "text/plain": [
       "['Dr Nihar Ranjan Roy',\n",
       " 'Dr Adeel Hashmi',\n",
       " 'Dr Deepika Bhatia',\n",
       " 'Dr Nivedita Palia',\n",
       " 'Dr Ashish Kumar',\n",
       " 'Dr Sonakshi Vij',\n",
       " 'Dr Monika Bansal',\n",
       " 'Dr Deepti Chopra',\n",
       " 'Ms Vidushi',\n",
       " 'Dr Shivanka',\n",
       " 'Dr Chaitali Bhowmik',\n",
       " 'Ms Nishi Jain',\n",
       " 'Dr Sandhya Tarwani',\n",
       " 'Ms Shikha Jain',\n",
       " 'Dr Alpana',\n",
       " 'Dr Pooja Gupta',\n",
       " 'Ms Anshula Gupta',\n",
       " 'Ms Khushboo Vijayran',\n",
       " 'Dr Dimple',\n",
       " 'Dr Lakshita Aggarwal',\n",
       " 'Dr Shalini Gambhir',\n",
       " 'Ms Surbhi Rastogi',\n",
       " 'Ms Anjani Gupta']"
      ]
     },
     "execution_count": 14,
     "metadata": {},
     "output_type": "execute_result"
    }
   ],
   "source": [
    "Professors"
   ]
  },
  {
   "cell_type": "code",
   "execution_count": 15,
   "id": "93479ae5-e85d-4976-a063-ba55faf15b1e",
   "metadata": {},
   "outputs": [],
   "source": [
    "elements = browser.find_elements(By.CSS_SELECTOR, \"p.MuiTypography-root.MuiTypography-body2.css-11r9ii4\")"
   ]
  },
  {
   "cell_type": "code",
   "execution_count": 16,
   "id": "4d34f2a9-8cf1-42d2-bd8b-8db5c6de1c95",
   "metadata": {},
   "outputs": [
    {
     "data": {
      "text/plain": [
       "'HOD\\nPh. D., M. Tech. (IT), B. E.'"
      ]
     },
     "execution_count": 16,
     "metadata": {},
     "output_type": "execute_result"
    }
   ],
   "source": [
    "elements[0].text"
   ]
  },
  {
   "cell_type": "code",
   "execution_count": 17,
   "id": "43decaee-5219-431f-a4de-edbfb73a38ce",
   "metadata": {},
   "outputs": [
    {
     "data": {
      "text/plain": [
       "23"
      ]
     },
     "execution_count": 17,
     "metadata": {},
     "output_type": "execute_result"
    }
   ],
   "source": [
    "titles = []\n",
    "qualifications = []\n",
    "i=0\n",
    "len(elements)"
   ]
  },
  {
   "cell_type": "code",
   "execution_count": 19,
   "id": "28047180-f67c-4a07-9cc1-e39bd51d2642",
   "metadata": {},
   "outputs": [],
   "source": [
    "for i in range(23):\n",
    "    title, qualification = elements[i].text.split('\\n') \n",
    "    titles.append(title.strip())  \n",
    "    qualifications.append(qualification.strip())"
   ]
  },
  {
   "cell_type": "code",
   "execution_count": 20,
   "id": "30dbcf33-ad9e-4f8d-bcaf-e8735b430c35",
   "metadata": {},
   "outputs": [
    {
     "data": {
      "text/plain": [
       "['HOD',\n",
       " 'Associate Professor',\n",
       " 'Assistant Professor',\n",
       " 'Assistant Professor',\n",
       " 'Assistant Professor',\n",
       " 'Assistant Professor',\n",
       " 'Assistant Professor',\n",
       " 'Assistant Professor',\n",
       " 'Assistant Professor',\n",
       " 'Assistant Professor',\n",
       " 'Assistant Professor',\n",
       " 'Assistant Professor',\n",
       " 'Assistant Professor',\n",
       " 'Assistant Professor',\n",
       " 'Assistant Professor',\n",
       " 'Assistant Professor',\n",
       " 'Assistant Professor',\n",
       " 'Assistant Professor',\n",
       " 'Assistant Professor',\n",
       " 'Assistant Professor',\n",
       " 'Assistant Professor',\n",
       " 'Assistant Professor',\n",
       " 'Assistant Professor']"
      ]
     },
     "execution_count": 20,
     "metadata": {},
     "output_type": "execute_result"
    }
   ],
   "source": [
    "titles"
   ]
  },
  {
   "cell_type": "code",
   "execution_count": 21,
   "id": "a56adbc5-5b76-4f17-aae0-cabac61f1de2",
   "metadata": {},
   "outputs": [
    {
     "data": {
      "text/plain": [
       "['Ph. D., M. Tech. (IT), B. E.',\n",
       " 'Ph. D., M. Tech. (IT), B. Tech. (CSE)',\n",
       " 'Ph. D., M. Tech.',\n",
       " 'Ph. D., M. Tech., B. E. (CSE)',\n",
       " 'Ph.D., M. Tech. (IT), B.Tech. (IT)',\n",
       " 'Ph. D., M. Tech., B. Tech.',\n",
       " 'Ph. D., M. Tech. (IT), MCA',\n",
       " 'Ph. D., M. Tech., B. Tech. (CSE)',\n",
       " 'M. Tech., B. Tech. (CSE)',\n",
       " 'Ph. D., M. Tech. (CSE), B. Tech. (IT)',\n",
       " 'Ph.D., M. Tech. (SE), B.Tech. (IT)',\n",
       " 'M. Tech. (CSE), B. Tech. (SE)',\n",
       " 'Ph. D., M. Tech. (IT), B. Tech. (CSE)',\n",
       " 'M. Tech. (CSE), B. Tech. (CSE)',\n",
       " 'Ph.D., M. Tech. (IT), B.Tech. (CSE)',\n",
       " 'Ph. D., M. Tech. (CSE), B. Tech. (IT)',\n",
       " 'Ph.D. (pursuing), M.Tech. (IS), B.Tech. (IT)',\n",
       " 'M. Tech., B. Tech. (CSE)',\n",
       " 'Ph. D., M. Tech. (IS), MCA',\n",
       " 'Ph. D., MCA, B. Sc. (CS)',\n",
       " 'Ph. D., M. Tech. (CSE)',\n",
       " 'M. Tech. (SE), BCA',\n",
       " 'Ph. D. (pursuing), M. Tech. (CSE), B. Tech. (CSE)']"
      ]
     },
     "execution_count": 21,
     "metadata": {},
     "output_type": "execute_result"
    }
   ],
   "source": [
    "qualifications"
   ]
  },
  {
   "cell_type": "code",
   "execution_count": 23,
   "id": "1df9fcb4-fc13-4540-86e7-09ceacab4078",
   "metadata": {},
   "outputs": [],
   "source": [
    "image_elements = browser.find_elements(By.CSS_SELECTOR, \"img.MuiCardMedia-root.MuiCardMedia-media.MuiCardMedia-img.css-152voow\")\n"
   ]
  },
  {
   "cell_type": "code",
   "execution_count": 24,
   "id": "7579eba2-035c-4b38-90dd-fa8852a2b753",
   "metadata": {},
   "outputs": [
    {
     "data": {
      "text/plain": [
       "<selenium.webdriver.remote.webelement.WebElement (session=\"9c3de43b2eee19db6972da1b84c15cad\", element=\"f.57A4583E23177A96237E96D017D93EA4.d.973A520358E78C14D265C5EA0BD6659B.e.30\")>"
      ]
     },
     "execution_count": 24,
     "metadata": {},
     "output_type": "execute_result"
    }
   ],
   "source": [
    "image_elements[0]"
   ]
  },
  {
   "cell_type": "code",
   "execution_count": 25,
   "id": "4e6021ab-dc81-4557-8b86-97d18ad48a37",
   "metadata": {},
   "outputs": [],
   "source": [
    "image_urls = [img.get_attribute('src') for img in image_elements]"
   ]
  },
  {
   "cell_type": "code",
   "execution_count": 27,
   "id": "a0dd7348-1e52-4b64-8a5b-a207e03f3d0e",
   "metadata": {},
   "outputs": [
    {
     "data": {
      "text/plain": [
       "23"
      ]
     },
     "execution_count": 27,
     "metadata": {},
     "output_type": "execute_result"
    }
   ],
   "source": [
    "len(image_urls)"
   ]
  },
  {
   "cell_type": "code",
   "execution_count": 29,
   "id": "886d1b9a-9289-4ed9-8a36-c339d799d45a",
   "metadata": {},
   "outputs": [],
   "source": [
    "import pandas as pd"
   ]
  },
  {
   "cell_type": "code",
   "execution_count": 30,
   "id": "e579ef00-79ba-446e-b398-84563b76a8fd",
   "metadata": {},
   "outputs": [],
   "source": [
    "df = pd.DataFrame({\n",
    "    'Names':Professors,\n",
    "    'Title':titles,\n",
    "    'Qualifications':qualifications,\n",
    "    'Image URL':image_urls\n",
    "})"
   ]
  },
  {
   "cell_type": "code",
   "execution_count": 31,
   "id": "22ed8806-60d3-45cd-b8c8-fb90b038f5ea",
   "metadata": {},
   "outputs": [
    {
     "data": {
      "text/html": [
       "<div>\n",
       "<style scoped>\n",
       "    .dataframe tbody tr th:only-of-type {\n",
       "        vertical-align: middle;\n",
       "    }\n",
       "\n",
       "    .dataframe tbody tr th {\n",
       "        vertical-align: top;\n",
       "    }\n",
       "\n",
       "    .dataframe thead th {\n",
       "        text-align: right;\n",
       "    }\n",
       "</style>\n",
       "<table border=\"1\" class=\"dataframe\">\n",
       "  <thead>\n",
       "    <tr style=\"text-align: right;\">\n",
       "      <th></th>\n",
       "      <th>Names</th>\n",
       "      <th>Title</th>\n",
       "      <th>Qualifications</th>\n",
       "      <th>Image URL</th>\n",
       "    </tr>\n",
       "  </thead>\n",
       "  <tbody>\n",
       "    <tr>\n",
       "      <th>0</th>\n",
       "      <td>Dr Nihar Ranjan Roy</td>\n",
       "      <td>HOD</td>\n",
       "      <td>Ph. D., M. Tech. (IT), B. E.</td>\n",
       "      <td>https://firebasestorage.googleapis.com/v0/b/vi...</td>\n",
       "    </tr>\n",
       "    <tr>\n",
       "      <th>1</th>\n",
       "      <td>Dr Adeel Hashmi</td>\n",
       "      <td>Associate Professor</td>\n",
       "      <td>Ph. D., M. Tech. (IT), B. Tech. (CSE)</td>\n",
       "      <td>https://firebasestorage.googleapis.com/v0/b/vi...</td>\n",
       "    </tr>\n",
       "    <tr>\n",
       "      <th>2</th>\n",
       "      <td>Dr Deepika Bhatia</td>\n",
       "      <td>Assistant Professor</td>\n",
       "      <td>Ph. D., M. Tech.</td>\n",
       "      <td>https://firebasestorage.googleapis.com/v0/b/vi...</td>\n",
       "    </tr>\n",
       "    <tr>\n",
       "      <th>3</th>\n",
       "      <td>Dr Nivedita Palia</td>\n",
       "      <td>Assistant Professor</td>\n",
       "      <td>Ph. D., M. Tech., B. E. (CSE)</td>\n",
       "      <td>https://firebasestorage.googleapis.com/v0/b/vi...</td>\n",
       "    </tr>\n",
       "    <tr>\n",
       "      <th>4</th>\n",
       "      <td>Dr Ashish Kumar</td>\n",
       "      <td>Assistant Professor</td>\n",
       "      <td>Ph.D., M. Tech. (IT), B.Tech. (IT)</td>\n",
       "      <td>https://firebasestorage.googleapis.com/v0/b/vi...</td>\n",
       "    </tr>\n",
       "    <tr>\n",
       "      <th>5</th>\n",
       "      <td>Dr Sonakshi Vij</td>\n",
       "      <td>Assistant Professor</td>\n",
       "      <td>Ph. D., M. Tech., B. Tech.</td>\n",
       "      <td>https://firebasestorage.googleapis.com/v0/b/vi...</td>\n",
       "    </tr>\n",
       "    <tr>\n",
       "      <th>6</th>\n",
       "      <td>Dr Monika Bansal</td>\n",
       "      <td>Assistant Professor</td>\n",
       "      <td>Ph. D., M. Tech. (IT), MCA</td>\n",
       "      <td>https://firebasestorage.googleapis.com/v0/b/vi...</td>\n",
       "    </tr>\n",
       "    <tr>\n",
       "      <th>7</th>\n",
       "      <td>Dr Deepti Chopra</td>\n",
       "      <td>Assistant Professor</td>\n",
       "      <td>Ph. D., M. Tech., B. Tech. (CSE)</td>\n",
       "      <td>https://firebasestorage.googleapis.com/v0/b/vi...</td>\n",
       "    </tr>\n",
       "    <tr>\n",
       "      <th>8</th>\n",
       "      <td>Ms Vidushi</td>\n",
       "      <td>Assistant Professor</td>\n",
       "      <td>M. Tech., B. Tech. (CSE)</td>\n",
       "      <td>https://firebasestorage.googleapis.com/v0/b/vi...</td>\n",
       "    </tr>\n",
       "    <tr>\n",
       "      <th>9</th>\n",
       "      <td>Dr Shivanka</td>\n",
       "      <td>Assistant Professor</td>\n",
       "      <td>Ph. D., M. Tech. (CSE), B. Tech. (IT)</td>\n",
       "      <td>https://firebasestorage.googleapis.com/v0/b/vi...</td>\n",
       "    </tr>\n",
       "    <tr>\n",
       "      <th>10</th>\n",
       "      <td>Dr Chaitali Bhowmik</td>\n",
       "      <td>Assistant Professor</td>\n",
       "      <td>Ph.D., M. Tech. (SE), B.Tech. (IT)</td>\n",
       "      <td>https://firebasestorage.googleapis.com/v0/b/vi...</td>\n",
       "    </tr>\n",
       "    <tr>\n",
       "      <th>11</th>\n",
       "      <td>Ms Nishi Jain</td>\n",
       "      <td>Assistant Professor</td>\n",
       "      <td>M. Tech. (CSE), B. Tech. (SE)</td>\n",
       "      <td>https://firebasestorage.googleapis.com/v0/b/vi...</td>\n",
       "    </tr>\n",
       "    <tr>\n",
       "      <th>12</th>\n",
       "      <td>Dr Sandhya Tarwani</td>\n",
       "      <td>Assistant Professor</td>\n",
       "      <td>Ph. D., M. Tech. (IT), B. Tech. (CSE)</td>\n",
       "      <td>https://firebasestorage.googleapis.com/v0/b/vi...</td>\n",
       "    </tr>\n",
       "    <tr>\n",
       "      <th>13</th>\n",
       "      <td>Ms Shikha Jain</td>\n",
       "      <td>Assistant Professor</td>\n",
       "      <td>M. Tech. (CSE), B. Tech. (CSE)</td>\n",
       "      <td>https://firebasestorage.googleapis.com/v0/b/vi...</td>\n",
       "    </tr>\n",
       "    <tr>\n",
       "      <th>14</th>\n",
       "      <td>Dr Alpana</td>\n",
       "      <td>Assistant Professor</td>\n",
       "      <td>Ph.D., M. Tech. (IT), B.Tech. (CSE)</td>\n",
       "      <td>https://firebasestorage.googleapis.com/v0/b/vi...</td>\n",
       "    </tr>\n",
       "    <tr>\n",
       "      <th>15</th>\n",
       "      <td>Dr Pooja Gupta</td>\n",
       "      <td>Assistant Professor</td>\n",
       "      <td>Ph. D., M. Tech. (CSE), B. Tech. (IT)</td>\n",
       "      <td>https://firebasestorage.googleapis.com/v0/b/vi...</td>\n",
       "    </tr>\n",
       "    <tr>\n",
       "      <th>16</th>\n",
       "      <td>Ms Anshula Gupta</td>\n",
       "      <td>Assistant Professor</td>\n",
       "      <td>Ph.D. (pursuing), M.Tech. (IS), B.Tech. (IT)</td>\n",
       "      <td>https://firebasestorage.googleapis.com/v0/b/vi...</td>\n",
       "    </tr>\n",
       "    <tr>\n",
       "      <th>17</th>\n",
       "      <td>Ms Khushboo Vijayran</td>\n",
       "      <td>Assistant Professor</td>\n",
       "      <td>M. Tech., B. Tech. (CSE)</td>\n",
       "      <td>https://firebasestorage.googleapis.com/v0/b/vi...</td>\n",
       "    </tr>\n",
       "    <tr>\n",
       "      <th>18</th>\n",
       "      <td>Dr Dimple</td>\n",
       "      <td>Assistant Professor</td>\n",
       "      <td>Ph. D., M. Tech. (IS), MCA</td>\n",
       "      <td>https://firebasestorage.googleapis.com/v0/b/vi...</td>\n",
       "    </tr>\n",
       "    <tr>\n",
       "      <th>19</th>\n",
       "      <td>Dr Lakshita Aggarwal</td>\n",
       "      <td>Assistant Professor</td>\n",
       "      <td>Ph. D., MCA, B. Sc. (CS)</td>\n",
       "      <td>https://firebasestorage.googleapis.com/v0/b/vi...</td>\n",
       "    </tr>\n",
       "    <tr>\n",
       "      <th>20</th>\n",
       "      <td>Dr Shalini Gambhir</td>\n",
       "      <td>Assistant Professor</td>\n",
       "      <td>Ph. D., M. Tech. (CSE)</td>\n",
       "      <td>https://firebasestorage.googleapis.com/v0/b/vi...</td>\n",
       "    </tr>\n",
       "    <tr>\n",
       "      <th>21</th>\n",
       "      <td>Ms Surbhi Rastogi</td>\n",
       "      <td>Assistant Professor</td>\n",
       "      <td>M. Tech. (SE), BCA</td>\n",
       "      <td>https://firebasestorage.googleapis.com/v0/b/vi...</td>\n",
       "    </tr>\n",
       "    <tr>\n",
       "      <th>22</th>\n",
       "      <td>Ms Anjani Gupta</td>\n",
       "      <td>Assistant Professor</td>\n",
       "      <td>Ph. D. (pursuing), M. Tech. (CSE), B. Tech. (CSE)</td>\n",
       "      <td>https://firebasestorage.googleapis.com/v0/b/vi...</td>\n",
       "    </tr>\n",
       "  </tbody>\n",
       "</table>\n",
       "</div>"
      ],
      "text/plain": [
       "                   Names                Title  \\\n",
       "0    Dr Nihar Ranjan Roy                  HOD   \n",
       "1        Dr Adeel Hashmi  Associate Professor   \n",
       "2      Dr Deepika Bhatia  Assistant Professor   \n",
       "3      Dr Nivedita Palia  Assistant Professor   \n",
       "4        Dr Ashish Kumar  Assistant Professor   \n",
       "5        Dr Sonakshi Vij  Assistant Professor   \n",
       "6       Dr Monika Bansal  Assistant Professor   \n",
       "7       Dr Deepti Chopra  Assistant Professor   \n",
       "8             Ms Vidushi  Assistant Professor   \n",
       "9            Dr Shivanka  Assistant Professor   \n",
       "10   Dr Chaitali Bhowmik  Assistant Professor   \n",
       "11         Ms Nishi Jain  Assistant Professor   \n",
       "12    Dr Sandhya Tarwani  Assistant Professor   \n",
       "13        Ms Shikha Jain  Assistant Professor   \n",
       "14             Dr Alpana  Assistant Professor   \n",
       "15        Dr Pooja Gupta  Assistant Professor   \n",
       "16      Ms Anshula Gupta  Assistant Professor   \n",
       "17  Ms Khushboo Vijayran  Assistant Professor   \n",
       "18             Dr Dimple  Assistant Professor   \n",
       "19  Dr Lakshita Aggarwal  Assistant Professor   \n",
       "20    Dr Shalini Gambhir  Assistant Professor   \n",
       "21     Ms Surbhi Rastogi  Assistant Professor   \n",
       "22       Ms Anjani Gupta  Assistant Professor   \n",
       "\n",
       "                                       Qualifications  \\\n",
       "0                        Ph. D., M. Tech. (IT), B. E.   \n",
       "1               Ph. D., M. Tech. (IT), B. Tech. (CSE)   \n",
       "2                                    Ph. D., M. Tech.   \n",
       "3                       Ph. D., M. Tech., B. E. (CSE)   \n",
       "4                  Ph.D., M. Tech. (IT), B.Tech. (IT)   \n",
       "5                          Ph. D., M. Tech., B. Tech.   \n",
       "6                          Ph. D., M. Tech. (IT), MCA   \n",
       "7                    Ph. D., M. Tech., B. Tech. (CSE)   \n",
       "8                            M. Tech., B. Tech. (CSE)   \n",
       "9               Ph. D., M. Tech. (CSE), B. Tech. (IT)   \n",
       "10                 Ph.D., M. Tech. (SE), B.Tech. (IT)   \n",
       "11                      M. Tech. (CSE), B. Tech. (SE)   \n",
       "12              Ph. D., M. Tech. (IT), B. Tech. (CSE)   \n",
       "13                     M. Tech. (CSE), B. Tech. (CSE)   \n",
       "14                Ph.D., M. Tech. (IT), B.Tech. (CSE)   \n",
       "15              Ph. D., M. Tech. (CSE), B. Tech. (IT)   \n",
       "16       Ph.D. (pursuing), M.Tech. (IS), B.Tech. (IT)   \n",
       "17                           M. Tech., B. Tech. (CSE)   \n",
       "18                         Ph. D., M. Tech. (IS), MCA   \n",
       "19                           Ph. D., MCA, B. Sc. (CS)   \n",
       "20                             Ph. D., M. Tech. (CSE)   \n",
       "21                                 M. Tech. (SE), BCA   \n",
       "22  Ph. D. (pursuing), M. Tech. (CSE), B. Tech. (CSE)   \n",
       "\n",
       "                                            Image URL  \n",
       "0   https://firebasestorage.googleapis.com/v0/b/vi...  \n",
       "1   https://firebasestorage.googleapis.com/v0/b/vi...  \n",
       "2   https://firebasestorage.googleapis.com/v0/b/vi...  \n",
       "3   https://firebasestorage.googleapis.com/v0/b/vi...  \n",
       "4   https://firebasestorage.googleapis.com/v0/b/vi...  \n",
       "5   https://firebasestorage.googleapis.com/v0/b/vi...  \n",
       "6   https://firebasestorage.googleapis.com/v0/b/vi...  \n",
       "7   https://firebasestorage.googleapis.com/v0/b/vi...  \n",
       "8   https://firebasestorage.googleapis.com/v0/b/vi...  \n",
       "9   https://firebasestorage.googleapis.com/v0/b/vi...  \n",
       "10  https://firebasestorage.googleapis.com/v0/b/vi...  \n",
       "11  https://firebasestorage.googleapis.com/v0/b/vi...  \n",
       "12  https://firebasestorage.googleapis.com/v0/b/vi...  \n",
       "13  https://firebasestorage.googleapis.com/v0/b/vi...  \n",
       "14  https://firebasestorage.googleapis.com/v0/b/vi...  \n",
       "15  https://firebasestorage.googleapis.com/v0/b/vi...  \n",
       "16  https://firebasestorage.googleapis.com/v0/b/vi...  \n",
       "17  https://firebasestorage.googleapis.com/v0/b/vi...  \n",
       "18  https://firebasestorage.googleapis.com/v0/b/vi...  \n",
       "19  https://firebasestorage.googleapis.com/v0/b/vi...  \n",
       "20  https://firebasestorage.googleapis.com/v0/b/vi...  \n",
       "21  https://firebasestorage.googleapis.com/v0/b/vi...  \n",
       "22  https://firebasestorage.googleapis.com/v0/b/vi...  "
      ]
     },
     "execution_count": 31,
     "metadata": {},
     "output_type": "execute_result"
    }
   ],
   "source": [
    "df"
   ]
  },
  {
   "cell_type": "code",
   "execution_count": 32,
   "id": "0cf60391-20a9-49f0-b662-745a108a8177",
   "metadata": {},
   "outputs": [],
   "source": [
    "df.to_csv('Department of Computer Science.csv', index=False)"
   ]
  },
  {
   "cell_type": "code",
   "execution_count": null,
   "id": "6fb929e7-a978-4479-9c2d-9b3c42f85d0b",
   "metadata": {},
   "outputs": [],
   "source": []
  }
 ],
 "metadata": {
  "kernelspec": {
   "display_name": "Python 3 (ipykernel)",
   "language": "python",
   "name": "python3"
  },
  "language_info": {
   "codemirror_mode": {
    "name": "ipython",
    "version": 3
   },
   "file_extension": ".py",
   "mimetype": "text/x-python",
   "name": "python",
   "nbconvert_exporter": "python",
   "pygments_lexer": "ipython3",
   "version": "3.11.7"
  }
 },
 "nbformat": 4,
 "nbformat_minor": 5
}
