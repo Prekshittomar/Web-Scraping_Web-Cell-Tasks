{
 "cells": [
  {
   "cell_type": "code",
   "execution_count": 1,
   "id": "ee9535f2-75c4-46e3-b9ec-f4bd411b4e25",
   "metadata": {},
   "outputs": [],
   "source": [
    "import os\n",
    "from selenium.webdriver import Edge  # Correct import for Edge WebDriver\n",
    "from selenium.webdriver.edge.service import Service\n",
    "from selenium.webdriver.edge.options import Options\n",
    "from bs4 import BeautifulSoup"
   ]
  },
  {
   "cell_type": "code",
   "execution_count": 2,
   "id": "89e703ae-12a1-41c6-8423-67649f160f5c",
   "metadata": {},
   "outputs": [],
   "source": [
    "user_agent = 'Mozilla/5.0 (Windows NT 10.0; Win64; x64) AppleWebKit/537.36 (KHTML, like Gecko) Chrome/128.0.0.0 Safari/537.36 Edg/128.0.0.0'\n",
    "\n",
    "# Path to your msedgedriver.exe\n",
    "edge_driver_path = os.path.join(os.getcwd(), 'msedgedriver.exe')\n",
    "\n",
    "# Create a Service object for Edge\n",
    "edge_service = Service(edge_driver_path)\n",
    "\n",
    "# Set up Edge options (e.g., user-agent)\n",
    "edge_options = Options()\n",
    "edge_options.add_argument(f'user-agent={user_agent}')\n",
    "\n",
    "# Initialize the Edge browser using correct WebDriver\n",
    "browser = Edge(service=edge_service, options=edge_options)"
   ]
  },
  {
   "cell_type": "code",
   "execution_count": 3,
   "id": "e20ab72f-a515-4c8f-9245-13e9f9ccddbe",
   "metadata": {},
   "outputs": [],
   "source": [
    "browser.get('https://vips.edu/vsit/faculty')"
   ]
  },
  {
   "cell_type": "code",
   "execution_count": 5,
   "id": "08266209-6ab5-48a4-93b6-affc633ea50b",
   "metadata": {},
   "outputs": [],
   "source": [
    "from selenium.webdriver.common.by import By\n",
    "\n",
    "element = browser.find_element(By.CSS_SELECTOR, \"div.MuiTypography-root.MuiTypography-h5.MuiTypography-gutterBottom.css-1puxygr\")\n"
   ]
  },
  {
   "cell_type": "code",
   "execution_count": 6,
   "id": "bb263f51-24e9-44f6-8201-7dd46a37ba33",
   "metadata": {},
   "outputs": [
    {
     "data": {
      "text/plain": [
       "<selenium.webdriver.remote.webelement.WebElement (session=\"b66fe26da611f629390715dd7b1fe322\", element=\"f.3F3D6BB766B794CAB8F3EA6FCAEE086C.d.7EC1EF41E74C3CF7F346D91985D5EB6E.e.40\")>"
      ]
     },
     "execution_count": 6,
     "metadata": {},
     "output_type": "execute_result"
    }
   ],
   "source": [
    "element"
   ]
  },
  {
   "cell_type": "code",
   "execution_count": 7,
   "id": "34a278cb-5fe0-4937-a415-a7525fb0e3a7",
   "metadata": {},
   "outputs": [
    {
     "data": {
      "text/plain": [
       "'Prof.(Dr.) Supriya Madan'"
      ]
     },
     "execution_count": 7,
     "metadata": {},
     "output_type": "execute_result"
    }
   ],
   "source": [
    "element.text"
   ]
  },
  {
   "cell_type": "code",
   "execution_count": 8,
   "id": "7928e3f1-ed9c-4805-845f-309e3f748915",
   "metadata": {},
   "outputs": [],
   "source": [
    "elements = browser.find_elements(By.CSS_SELECTOR, \"div.MuiTypography-root.MuiTypography-h5.MuiTypography-gutterBottom.css-1puxygr\")\n"
   ]
  },
  {
   "cell_type": "code",
   "execution_count": 9,
   "id": "ca58d649-b53d-4439-b182-43c72fbf4389",
   "metadata": {},
   "outputs": [
    {
     "data": {
      "text/plain": [
       "[<selenium.webdriver.remote.webelement.WebElement (session=\"b66fe26da611f629390715dd7b1fe322\", element=\"f.3F3D6BB766B794CAB8F3EA6FCAEE086C.d.7EC1EF41E74C3CF7F346D91985D5EB6E.e.40\")>,\n",
       " <selenium.webdriver.remote.webelement.WebElement (session=\"b66fe26da611f629390715dd7b1fe322\", element=\"f.3F3D6BB766B794CAB8F3EA6FCAEE086C.d.7EC1EF41E74C3CF7F346D91985D5EB6E.e.41\")>,\n",
       " <selenium.webdriver.remote.webelement.WebElement (session=\"b66fe26da611f629390715dd7b1fe322\", element=\"f.3F3D6BB766B794CAB8F3EA6FCAEE086C.d.7EC1EF41E74C3CF7F346D91985D5EB6E.e.42\")>,\n",
       " <selenium.webdriver.remote.webelement.WebElement (session=\"b66fe26da611f629390715dd7b1fe322\", element=\"f.3F3D6BB766B794CAB8F3EA6FCAEE086C.d.7EC1EF41E74C3CF7F346D91985D5EB6E.e.43\")>,\n",
       " <selenium.webdriver.remote.webelement.WebElement (session=\"b66fe26da611f629390715dd7b1fe322\", element=\"f.3F3D6BB766B794CAB8F3EA6FCAEE086C.d.7EC1EF41E74C3CF7F346D91985D5EB6E.e.44\")>,\n",
       " <selenium.webdriver.remote.webelement.WebElement (session=\"b66fe26da611f629390715dd7b1fe322\", element=\"f.3F3D6BB766B794CAB8F3EA6FCAEE086C.d.7EC1EF41E74C3CF7F346D91985D5EB6E.e.45\")>,\n",
       " <selenium.webdriver.remote.webelement.WebElement (session=\"b66fe26da611f629390715dd7b1fe322\", element=\"f.3F3D6BB766B794CAB8F3EA6FCAEE086C.d.7EC1EF41E74C3CF7F346D91985D5EB6E.e.46\")>,\n",
       " <selenium.webdriver.remote.webelement.WebElement (session=\"b66fe26da611f629390715dd7b1fe322\", element=\"f.3F3D6BB766B794CAB8F3EA6FCAEE086C.d.7EC1EF41E74C3CF7F346D91985D5EB6E.e.47\")>,\n",
       " <selenium.webdriver.remote.webelement.WebElement (session=\"b66fe26da611f629390715dd7b1fe322\", element=\"f.3F3D6BB766B794CAB8F3EA6FCAEE086C.d.7EC1EF41E74C3CF7F346D91985D5EB6E.e.48\")>,\n",
       " <selenium.webdriver.remote.webelement.WebElement (session=\"b66fe26da611f629390715dd7b1fe322\", element=\"f.3F3D6BB766B794CAB8F3EA6FCAEE086C.d.7EC1EF41E74C3CF7F346D91985D5EB6E.e.49\")>,\n",
       " <selenium.webdriver.remote.webelement.WebElement (session=\"b66fe26da611f629390715dd7b1fe322\", element=\"f.3F3D6BB766B794CAB8F3EA6FCAEE086C.d.7EC1EF41E74C3CF7F346D91985D5EB6E.e.50\")>,\n",
       " <selenium.webdriver.remote.webelement.WebElement (session=\"b66fe26da611f629390715dd7b1fe322\", element=\"f.3F3D6BB766B794CAB8F3EA6FCAEE086C.d.7EC1EF41E74C3CF7F346D91985D5EB6E.e.51\")>,\n",
       " <selenium.webdriver.remote.webelement.WebElement (session=\"b66fe26da611f629390715dd7b1fe322\", element=\"f.3F3D6BB766B794CAB8F3EA6FCAEE086C.d.7EC1EF41E74C3CF7F346D91985D5EB6E.e.52\")>,\n",
       " <selenium.webdriver.remote.webelement.WebElement (session=\"b66fe26da611f629390715dd7b1fe322\", element=\"f.3F3D6BB766B794CAB8F3EA6FCAEE086C.d.7EC1EF41E74C3CF7F346D91985D5EB6E.e.53\")>,\n",
       " <selenium.webdriver.remote.webelement.WebElement (session=\"b66fe26da611f629390715dd7b1fe322\", element=\"f.3F3D6BB766B794CAB8F3EA6FCAEE086C.d.7EC1EF41E74C3CF7F346D91985D5EB6E.e.54\")>,\n",
       " <selenium.webdriver.remote.webelement.WebElement (session=\"b66fe26da611f629390715dd7b1fe322\", element=\"f.3F3D6BB766B794CAB8F3EA6FCAEE086C.d.7EC1EF41E74C3CF7F346D91985D5EB6E.e.55\")>,\n",
       " <selenium.webdriver.remote.webelement.WebElement (session=\"b66fe26da611f629390715dd7b1fe322\", element=\"f.3F3D6BB766B794CAB8F3EA6FCAEE086C.d.7EC1EF41E74C3CF7F346D91985D5EB6E.e.56\")>,\n",
       " <selenium.webdriver.remote.webelement.WebElement (session=\"b66fe26da611f629390715dd7b1fe322\", element=\"f.3F3D6BB766B794CAB8F3EA6FCAEE086C.d.7EC1EF41E74C3CF7F346D91985D5EB6E.e.57\")>,\n",
       " <selenium.webdriver.remote.webelement.WebElement (session=\"b66fe26da611f629390715dd7b1fe322\", element=\"f.3F3D6BB766B794CAB8F3EA6FCAEE086C.d.7EC1EF41E74C3CF7F346D91985D5EB6E.e.58\")>,\n",
       " <selenium.webdriver.remote.webelement.WebElement (session=\"b66fe26da611f629390715dd7b1fe322\", element=\"f.3F3D6BB766B794CAB8F3EA6FCAEE086C.d.7EC1EF41E74C3CF7F346D91985D5EB6E.e.59\")>,\n",
       " <selenium.webdriver.remote.webelement.WebElement (session=\"b66fe26da611f629390715dd7b1fe322\", element=\"f.3F3D6BB766B794CAB8F3EA6FCAEE086C.d.7EC1EF41E74C3CF7F346D91985D5EB6E.e.60\")>,\n",
       " <selenium.webdriver.remote.webelement.WebElement (session=\"b66fe26da611f629390715dd7b1fe322\", element=\"f.3F3D6BB766B794CAB8F3EA6FCAEE086C.d.7EC1EF41E74C3CF7F346D91985D5EB6E.e.61\")>,\n",
       " <selenium.webdriver.remote.webelement.WebElement (session=\"b66fe26da611f629390715dd7b1fe322\", element=\"f.3F3D6BB766B794CAB8F3EA6FCAEE086C.d.7EC1EF41E74C3CF7F346D91985D5EB6E.e.62\")>,\n",
       " <selenium.webdriver.remote.webelement.WebElement (session=\"b66fe26da611f629390715dd7b1fe322\", element=\"f.3F3D6BB766B794CAB8F3EA6FCAEE086C.d.7EC1EF41E74C3CF7F346D91985D5EB6E.e.63\")>,\n",
       " <selenium.webdriver.remote.webelement.WebElement (session=\"b66fe26da611f629390715dd7b1fe322\", element=\"f.3F3D6BB766B794CAB8F3EA6FCAEE086C.d.7EC1EF41E74C3CF7F346D91985D5EB6E.e.64\")>,\n",
       " <selenium.webdriver.remote.webelement.WebElement (session=\"b66fe26da611f629390715dd7b1fe322\", element=\"f.3F3D6BB766B794CAB8F3EA6FCAEE086C.d.7EC1EF41E74C3CF7F346D91985D5EB6E.e.65\")>,\n",
       " <selenium.webdriver.remote.webelement.WebElement (session=\"b66fe26da611f629390715dd7b1fe322\", element=\"f.3F3D6BB766B794CAB8F3EA6FCAEE086C.d.7EC1EF41E74C3CF7F346D91985D5EB6E.e.66\")>,\n",
       " <selenium.webdriver.remote.webelement.WebElement (session=\"b66fe26da611f629390715dd7b1fe322\", element=\"f.3F3D6BB766B794CAB8F3EA6FCAEE086C.d.7EC1EF41E74C3CF7F346D91985D5EB6E.e.67\")>,\n",
       " <selenium.webdriver.remote.webelement.WebElement (session=\"b66fe26da611f629390715dd7b1fe322\", element=\"f.3F3D6BB766B794CAB8F3EA6FCAEE086C.d.7EC1EF41E74C3CF7F346D91985D5EB6E.e.68\")>,\n",
       " <selenium.webdriver.remote.webelement.WebElement (session=\"b66fe26da611f629390715dd7b1fe322\", element=\"f.3F3D6BB766B794CAB8F3EA6FCAEE086C.d.7EC1EF41E74C3CF7F346D91985D5EB6E.e.69\")>,\n",
       " <selenium.webdriver.remote.webelement.WebElement (session=\"b66fe26da611f629390715dd7b1fe322\", element=\"f.3F3D6BB766B794CAB8F3EA6FCAEE086C.d.7EC1EF41E74C3CF7F346D91985D5EB6E.e.70\")>,\n",
       " <selenium.webdriver.remote.webelement.WebElement (session=\"b66fe26da611f629390715dd7b1fe322\", element=\"f.3F3D6BB766B794CAB8F3EA6FCAEE086C.d.7EC1EF41E74C3CF7F346D91985D5EB6E.e.71\")>,\n",
       " <selenium.webdriver.remote.webelement.WebElement (session=\"b66fe26da611f629390715dd7b1fe322\", element=\"f.3F3D6BB766B794CAB8F3EA6FCAEE086C.d.7EC1EF41E74C3CF7F346D91985D5EB6E.e.72\")>,\n",
       " <selenium.webdriver.remote.webelement.WebElement (session=\"b66fe26da611f629390715dd7b1fe322\", element=\"f.3F3D6BB766B794CAB8F3EA6FCAEE086C.d.7EC1EF41E74C3CF7F346D91985D5EB6E.e.73\")>,\n",
       " <selenium.webdriver.remote.webelement.WebElement (session=\"b66fe26da611f629390715dd7b1fe322\", element=\"f.3F3D6BB766B794CAB8F3EA6FCAEE086C.d.7EC1EF41E74C3CF7F346D91985D5EB6E.e.74\")>,\n",
       " <selenium.webdriver.remote.webelement.WebElement (session=\"b66fe26da611f629390715dd7b1fe322\", element=\"f.3F3D6BB766B794CAB8F3EA6FCAEE086C.d.7EC1EF41E74C3CF7F346D91985D5EB6E.e.75\")>,\n",
       " <selenium.webdriver.remote.webelement.WebElement (session=\"b66fe26da611f629390715dd7b1fe322\", element=\"f.3F3D6BB766B794CAB8F3EA6FCAEE086C.d.7EC1EF41E74C3CF7F346D91985D5EB6E.e.76\")>,\n",
       " <selenium.webdriver.remote.webelement.WebElement (session=\"b66fe26da611f629390715dd7b1fe322\", element=\"f.3F3D6BB766B794CAB8F3EA6FCAEE086C.d.7EC1EF41E74C3CF7F346D91985D5EB6E.e.77\")>,\n",
       " <selenium.webdriver.remote.webelement.WebElement (session=\"b66fe26da611f629390715dd7b1fe322\", element=\"f.3F3D6BB766B794CAB8F3EA6FCAEE086C.d.7EC1EF41E74C3CF7F346D91985D5EB6E.e.78\")>,\n",
       " <selenium.webdriver.remote.webelement.WebElement (session=\"b66fe26da611f629390715dd7b1fe322\", element=\"f.3F3D6BB766B794CAB8F3EA6FCAEE086C.d.7EC1EF41E74C3CF7F346D91985D5EB6E.e.79\")>,\n",
       " <selenium.webdriver.remote.webelement.WebElement (session=\"b66fe26da611f629390715dd7b1fe322\", element=\"f.3F3D6BB766B794CAB8F3EA6FCAEE086C.d.7EC1EF41E74C3CF7F346D91985D5EB6E.e.80\")>,\n",
       " <selenium.webdriver.remote.webelement.WebElement (session=\"b66fe26da611f629390715dd7b1fe322\", element=\"f.3F3D6BB766B794CAB8F3EA6FCAEE086C.d.7EC1EF41E74C3CF7F346D91985D5EB6E.e.81\")>,\n",
       " <selenium.webdriver.remote.webelement.WebElement (session=\"b66fe26da611f629390715dd7b1fe322\", element=\"f.3F3D6BB766B794CAB8F3EA6FCAEE086C.d.7EC1EF41E74C3CF7F346D91985D5EB6E.e.82\")>,\n",
       " <selenium.webdriver.remote.webelement.WebElement (session=\"b66fe26da611f629390715dd7b1fe322\", element=\"f.3F3D6BB766B794CAB8F3EA6FCAEE086C.d.7EC1EF41E74C3CF7F346D91985D5EB6E.e.83\")>,\n",
       " <selenium.webdriver.remote.webelement.WebElement (session=\"b66fe26da611f629390715dd7b1fe322\", element=\"f.3F3D6BB766B794CAB8F3EA6FCAEE086C.d.7EC1EF41E74C3CF7F346D91985D5EB6E.e.84\")>,\n",
       " <selenium.webdriver.remote.webelement.WebElement (session=\"b66fe26da611f629390715dd7b1fe322\", element=\"f.3F3D6BB766B794CAB8F3EA6FCAEE086C.d.7EC1EF41E74C3CF7F346D91985D5EB6E.e.85\")>]"
      ]
     },
     "execution_count": 9,
     "metadata": {},
     "output_type": "execute_result"
    }
   ],
   "source": [
    "elements"
   ]
  },
  {
   "cell_type": "code",
   "execution_count": 10,
   "id": "70713635-4ddb-4360-8143-58c4a74a41b7",
   "metadata": {},
   "outputs": [
    {
     "data": {
      "text/plain": [
       "'Prof.(Dr.) Supriya Madan'"
      ]
     },
     "execution_count": 10,
     "metadata": {},
     "output_type": "execute_result"
    }
   ],
   "source": [
    "elements[0].text"
   ]
  },
  {
   "cell_type": "code",
   "execution_count": 11,
   "id": "ff7784d6-19f2-4232-9d12-9e04e19d6c19",
   "metadata": {},
   "outputs": [
    {
     "data": {
      "text/plain": [
       "'Prof(Dr) Deepali Kamthania'"
      ]
     },
     "execution_count": 11,
     "metadata": {},
     "output_type": "execute_result"
    }
   ],
   "source": [
    "elements[1].text"
   ]
  },
  {
   "cell_type": "code",
   "execution_count": 12,
   "id": "256ddc45-b68f-43ef-a1d0-4e9c18de574d",
   "metadata": {},
   "outputs": [
    {
     "data": {
      "text/plain": [
       "46"
      ]
     },
     "execution_count": 12,
     "metadata": {},
     "output_type": "execute_result"
    }
   ],
   "source": [
    "Professors = []\n",
    "i=0\n",
    "len(elements)"
   ]
  },
  {
   "cell_type": "code",
   "execution_count": 13,
   "id": "a9f40eb6-b70d-45f5-b14f-b117d0e25726",
   "metadata": {},
   "outputs": [],
   "source": [
    "for i in range(46):\n",
    "    Professors.append(elements[i].text)"
   ]
  },
  {
   "cell_type": "code",
   "execution_count": 14,
   "id": "c18d124a-4cd3-4f8f-90cd-e114a48de6a6",
   "metadata": {},
   "outputs": [
    {
     "data": {
      "text/plain": [
       "['Prof.(Dr.) Supriya Madan',\n",
       " 'Prof(Dr) Deepali Kamthania',\n",
       " 'Prof(Dr) Mamta Madan',\n",
       " 'Dr Pooja Saigal',\n",
       " 'Dr Pawan Whig',\n",
       " 'Dr Rajan Gupta',\n",
       " 'Dr Pooja Thakar',\n",
       " 'Dr Dheeraj Malhotra',\n",
       " 'Dr Neha Verma Malhotra',\n",
       " 'Dr Meenu Chopra',\n",
       " 'Dr Neha Goel',\n",
       " 'Dr Kanta Malik',\n",
       " 'Dr Neetu Goel',\n",
       " 'Dr Indu Sahu',\n",
       " 'Dr Vani Nijhawan',\n",
       " 'Ms Priyanka Gupta',\n",
       " 'Ms Aastha bhardwaj',\n",
       " 'Dr Alpna Sharma',\n",
       " 'Dr Anupama Jha',\n",
       " 'Ms Shailee Bhatia',\n",
       " 'Dr Cosmena Mahapatra',\n",
       " 'Dr Sandhya Sharma',\n",
       " 'Ms Prerna Ajmani',\n",
       " 'Dr Sakshi Khullar',\n",
       " 'Dr Yogita Thareja',\n",
       " 'Ms Mitanshi Rustagi',\n",
       " 'Ms Tanvi Dalal',\n",
       " 'Dr Shalini Bhartiya',\n",
       " 'Ms Chhaya Gupta',\n",
       " 'Dr Dimple Chawla',\n",
       " 'Dr Iti Batra',\n",
       " 'Ms Anuja Jain',\n",
       " 'Ms Swati Jain',\n",
       " 'Dr Neha Gupta',\n",
       " 'Mr Raj Kumar Sharma',\n",
       " 'Mr Anil Tandon',\n",
       " 'Ms Rachna Jain',\n",
       " 'Mr Rahul Kumar',\n",
       " 'Ms Smita Mittal Kashyap',\n",
       " 'Mr Ashok',\n",
       " 'Ms Soni Jain',\n",
       " 'Dr Gunjan Agarwal',\n",
       " 'Mr Sumit Anand',\n",
       " 'Ms Bhawna Sehgal',\n",
       " 'Ms Megha Bansal',\n",
       " 'Ms Barbie Bansal']"
      ]
     },
     "execution_count": 14,
     "metadata": {},
     "output_type": "execute_result"
    }
   ],
   "source": [
    "Professors"
   ]
  },
  {
   "cell_type": "code",
   "execution_count": 15,
   "id": "4e3603f5-80dc-401e-8dbe-a2121fc37fef",
   "metadata": {},
   "outputs": [],
   "source": [
    "element = browser.find_element(By.CSS_SELECTOR, \"p.MuiTypography-root.MuiTypography-body2.css-11r9ii4\")\n"
   ]
  },
  {
   "cell_type": "code",
   "execution_count": 16,
   "id": "8a560a00-6a23-4d18-ac22-792158cb0b21",
   "metadata": {},
   "outputs": [
    {
     "data": {
      "text/plain": [
       "'Chairperson & Professor VSIT'"
      ]
     },
     "execution_count": 16,
     "metadata": {},
     "output_type": "execute_result"
    }
   ],
   "source": [
    "element.text.replace('\\n', ' ')\n"
   ]
  },
  {
   "cell_type": "code",
   "execution_count": 17,
   "id": "3bceffbc-8ae8-4927-b927-071aac189163",
   "metadata": {},
   "outputs": [],
   "source": [
    "elements = browser.find_elements(By.CSS_SELECTOR, \"p.MuiTypography-root.MuiTypography-body2.css-11r9ii4\")\n"
   ]
  },
  {
   "cell_type": "code",
   "execution_count": 18,
   "id": "243f871f-c592-4d33-aa2c-f10b94aeefc1",
   "metadata": {},
   "outputs": [
    {
     "data": {
      "text/plain": [
       "[<selenium.webdriver.remote.webelement.WebElement (session=\"b66fe26da611f629390715dd7b1fe322\", element=\"f.3F3D6BB766B794CAB8F3EA6FCAEE086C.d.7EC1EF41E74C3CF7F346D91985D5EB6E.e.86\")>,\n",
       " <selenium.webdriver.remote.webelement.WebElement (session=\"b66fe26da611f629390715dd7b1fe322\", element=\"f.3F3D6BB766B794CAB8F3EA6FCAEE086C.d.7EC1EF41E74C3CF7F346D91985D5EB6E.e.87\")>,\n",
       " <selenium.webdriver.remote.webelement.WebElement (session=\"b66fe26da611f629390715dd7b1fe322\", element=\"f.3F3D6BB766B794CAB8F3EA6FCAEE086C.d.7EC1EF41E74C3CF7F346D91985D5EB6E.e.88\")>,\n",
       " <selenium.webdriver.remote.webelement.WebElement (session=\"b66fe26da611f629390715dd7b1fe322\", element=\"f.3F3D6BB766B794CAB8F3EA6FCAEE086C.d.7EC1EF41E74C3CF7F346D91985D5EB6E.e.89\")>,\n",
       " <selenium.webdriver.remote.webelement.WebElement (session=\"b66fe26da611f629390715dd7b1fe322\", element=\"f.3F3D6BB766B794CAB8F3EA6FCAEE086C.d.7EC1EF41E74C3CF7F346D91985D5EB6E.e.90\")>,\n",
       " <selenium.webdriver.remote.webelement.WebElement (session=\"b66fe26da611f629390715dd7b1fe322\", element=\"f.3F3D6BB766B794CAB8F3EA6FCAEE086C.d.7EC1EF41E74C3CF7F346D91985D5EB6E.e.91\")>,\n",
       " <selenium.webdriver.remote.webelement.WebElement (session=\"b66fe26da611f629390715dd7b1fe322\", element=\"f.3F3D6BB766B794CAB8F3EA6FCAEE086C.d.7EC1EF41E74C3CF7F346D91985D5EB6E.e.92\")>,\n",
       " <selenium.webdriver.remote.webelement.WebElement (session=\"b66fe26da611f629390715dd7b1fe322\", element=\"f.3F3D6BB766B794CAB8F3EA6FCAEE086C.d.7EC1EF41E74C3CF7F346D91985D5EB6E.e.93\")>,\n",
       " <selenium.webdriver.remote.webelement.WebElement (session=\"b66fe26da611f629390715dd7b1fe322\", element=\"f.3F3D6BB766B794CAB8F3EA6FCAEE086C.d.7EC1EF41E74C3CF7F346D91985D5EB6E.e.94\")>,\n",
       " <selenium.webdriver.remote.webelement.WebElement (session=\"b66fe26da611f629390715dd7b1fe322\", element=\"f.3F3D6BB766B794CAB8F3EA6FCAEE086C.d.7EC1EF41E74C3CF7F346D91985D5EB6E.e.95\")>,\n",
       " <selenium.webdriver.remote.webelement.WebElement (session=\"b66fe26da611f629390715dd7b1fe322\", element=\"f.3F3D6BB766B794CAB8F3EA6FCAEE086C.d.7EC1EF41E74C3CF7F346D91985D5EB6E.e.96\")>,\n",
       " <selenium.webdriver.remote.webelement.WebElement (session=\"b66fe26da611f629390715dd7b1fe322\", element=\"f.3F3D6BB766B794CAB8F3EA6FCAEE086C.d.7EC1EF41E74C3CF7F346D91985D5EB6E.e.97\")>,\n",
       " <selenium.webdriver.remote.webelement.WebElement (session=\"b66fe26da611f629390715dd7b1fe322\", element=\"f.3F3D6BB766B794CAB8F3EA6FCAEE086C.d.7EC1EF41E74C3CF7F346D91985D5EB6E.e.98\")>,\n",
       " <selenium.webdriver.remote.webelement.WebElement (session=\"b66fe26da611f629390715dd7b1fe322\", element=\"f.3F3D6BB766B794CAB8F3EA6FCAEE086C.d.7EC1EF41E74C3CF7F346D91985D5EB6E.e.99\")>,\n",
       " <selenium.webdriver.remote.webelement.WebElement (session=\"b66fe26da611f629390715dd7b1fe322\", element=\"f.3F3D6BB766B794CAB8F3EA6FCAEE086C.d.7EC1EF41E74C3CF7F346D91985D5EB6E.e.100\")>,\n",
       " <selenium.webdriver.remote.webelement.WebElement (session=\"b66fe26da611f629390715dd7b1fe322\", element=\"f.3F3D6BB766B794CAB8F3EA6FCAEE086C.d.7EC1EF41E74C3CF7F346D91985D5EB6E.e.101\")>,\n",
       " <selenium.webdriver.remote.webelement.WebElement (session=\"b66fe26da611f629390715dd7b1fe322\", element=\"f.3F3D6BB766B794CAB8F3EA6FCAEE086C.d.7EC1EF41E74C3CF7F346D91985D5EB6E.e.102\")>,\n",
       " <selenium.webdriver.remote.webelement.WebElement (session=\"b66fe26da611f629390715dd7b1fe322\", element=\"f.3F3D6BB766B794CAB8F3EA6FCAEE086C.d.7EC1EF41E74C3CF7F346D91985D5EB6E.e.103\")>,\n",
       " <selenium.webdriver.remote.webelement.WebElement (session=\"b66fe26da611f629390715dd7b1fe322\", element=\"f.3F3D6BB766B794CAB8F3EA6FCAEE086C.d.7EC1EF41E74C3CF7F346D91985D5EB6E.e.104\")>,\n",
       " <selenium.webdriver.remote.webelement.WebElement (session=\"b66fe26da611f629390715dd7b1fe322\", element=\"f.3F3D6BB766B794CAB8F3EA6FCAEE086C.d.7EC1EF41E74C3CF7F346D91985D5EB6E.e.105\")>,\n",
       " <selenium.webdriver.remote.webelement.WebElement (session=\"b66fe26da611f629390715dd7b1fe322\", element=\"f.3F3D6BB766B794CAB8F3EA6FCAEE086C.d.7EC1EF41E74C3CF7F346D91985D5EB6E.e.106\")>,\n",
       " <selenium.webdriver.remote.webelement.WebElement (session=\"b66fe26da611f629390715dd7b1fe322\", element=\"f.3F3D6BB766B794CAB8F3EA6FCAEE086C.d.7EC1EF41E74C3CF7F346D91985D5EB6E.e.107\")>,\n",
       " <selenium.webdriver.remote.webelement.WebElement (session=\"b66fe26da611f629390715dd7b1fe322\", element=\"f.3F3D6BB766B794CAB8F3EA6FCAEE086C.d.7EC1EF41E74C3CF7F346D91985D5EB6E.e.108\")>,\n",
       " <selenium.webdriver.remote.webelement.WebElement (session=\"b66fe26da611f629390715dd7b1fe322\", element=\"f.3F3D6BB766B794CAB8F3EA6FCAEE086C.d.7EC1EF41E74C3CF7F346D91985D5EB6E.e.109\")>,\n",
       " <selenium.webdriver.remote.webelement.WebElement (session=\"b66fe26da611f629390715dd7b1fe322\", element=\"f.3F3D6BB766B794CAB8F3EA6FCAEE086C.d.7EC1EF41E74C3CF7F346D91985D5EB6E.e.110\")>,\n",
       " <selenium.webdriver.remote.webelement.WebElement (session=\"b66fe26da611f629390715dd7b1fe322\", element=\"f.3F3D6BB766B794CAB8F3EA6FCAEE086C.d.7EC1EF41E74C3CF7F346D91985D5EB6E.e.111\")>,\n",
       " <selenium.webdriver.remote.webelement.WebElement (session=\"b66fe26da611f629390715dd7b1fe322\", element=\"f.3F3D6BB766B794CAB8F3EA6FCAEE086C.d.7EC1EF41E74C3CF7F346D91985D5EB6E.e.112\")>,\n",
       " <selenium.webdriver.remote.webelement.WebElement (session=\"b66fe26da611f629390715dd7b1fe322\", element=\"f.3F3D6BB766B794CAB8F3EA6FCAEE086C.d.7EC1EF41E74C3CF7F346D91985D5EB6E.e.113\")>,\n",
       " <selenium.webdriver.remote.webelement.WebElement (session=\"b66fe26da611f629390715dd7b1fe322\", element=\"f.3F3D6BB766B794CAB8F3EA6FCAEE086C.d.7EC1EF41E74C3CF7F346D91985D5EB6E.e.114\")>,\n",
       " <selenium.webdriver.remote.webelement.WebElement (session=\"b66fe26da611f629390715dd7b1fe322\", element=\"f.3F3D6BB766B794CAB8F3EA6FCAEE086C.d.7EC1EF41E74C3CF7F346D91985D5EB6E.e.115\")>,\n",
       " <selenium.webdriver.remote.webelement.WebElement (session=\"b66fe26da611f629390715dd7b1fe322\", element=\"f.3F3D6BB766B794CAB8F3EA6FCAEE086C.d.7EC1EF41E74C3CF7F346D91985D5EB6E.e.116\")>,\n",
       " <selenium.webdriver.remote.webelement.WebElement (session=\"b66fe26da611f629390715dd7b1fe322\", element=\"f.3F3D6BB766B794CAB8F3EA6FCAEE086C.d.7EC1EF41E74C3CF7F346D91985D5EB6E.e.117\")>,\n",
       " <selenium.webdriver.remote.webelement.WebElement (session=\"b66fe26da611f629390715dd7b1fe322\", element=\"f.3F3D6BB766B794CAB8F3EA6FCAEE086C.d.7EC1EF41E74C3CF7F346D91985D5EB6E.e.118\")>,\n",
       " <selenium.webdriver.remote.webelement.WebElement (session=\"b66fe26da611f629390715dd7b1fe322\", element=\"f.3F3D6BB766B794CAB8F3EA6FCAEE086C.d.7EC1EF41E74C3CF7F346D91985D5EB6E.e.119\")>,\n",
       " <selenium.webdriver.remote.webelement.WebElement (session=\"b66fe26da611f629390715dd7b1fe322\", element=\"f.3F3D6BB766B794CAB8F3EA6FCAEE086C.d.7EC1EF41E74C3CF7F346D91985D5EB6E.e.120\")>,\n",
       " <selenium.webdriver.remote.webelement.WebElement (session=\"b66fe26da611f629390715dd7b1fe322\", element=\"f.3F3D6BB766B794CAB8F3EA6FCAEE086C.d.7EC1EF41E74C3CF7F346D91985D5EB6E.e.121\")>,\n",
       " <selenium.webdriver.remote.webelement.WebElement (session=\"b66fe26da611f629390715dd7b1fe322\", element=\"f.3F3D6BB766B794CAB8F3EA6FCAEE086C.d.7EC1EF41E74C3CF7F346D91985D5EB6E.e.122\")>,\n",
       " <selenium.webdriver.remote.webelement.WebElement (session=\"b66fe26da611f629390715dd7b1fe322\", element=\"f.3F3D6BB766B794CAB8F3EA6FCAEE086C.d.7EC1EF41E74C3CF7F346D91985D5EB6E.e.123\")>,\n",
       " <selenium.webdriver.remote.webelement.WebElement (session=\"b66fe26da611f629390715dd7b1fe322\", element=\"f.3F3D6BB766B794CAB8F3EA6FCAEE086C.d.7EC1EF41E74C3CF7F346D91985D5EB6E.e.124\")>,\n",
       " <selenium.webdriver.remote.webelement.WebElement (session=\"b66fe26da611f629390715dd7b1fe322\", element=\"f.3F3D6BB766B794CAB8F3EA6FCAEE086C.d.7EC1EF41E74C3CF7F346D91985D5EB6E.e.125\")>,\n",
       " <selenium.webdriver.remote.webelement.WebElement (session=\"b66fe26da611f629390715dd7b1fe322\", element=\"f.3F3D6BB766B794CAB8F3EA6FCAEE086C.d.7EC1EF41E74C3CF7F346D91985D5EB6E.e.126\")>,\n",
       " <selenium.webdriver.remote.webelement.WebElement (session=\"b66fe26da611f629390715dd7b1fe322\", element=\"f.3F3D6BB766B794CAB8F3EA6FCAEE086C.d.7EC1EF41E74C3CF7F346D91985D5EB6E.e.127\")>,\n",
       " <selenium.webdriver.remote.webelement.WebElement (session=\"b66fe26da611f629390715dd7b1fe322\", element=\"f.3F3D6BB766B794CAB8F3EA6FCAEE086C.d.7EC1EF41E74C3CF7F346D91985D5EB6E.e.128\")>,\n",
       " <selenium.webdriver.remote.webelement.WebElement (session=\"b66fe26da611f629390715dd7b1fe322\", element=\"f.3F3D6BB766B794CAB8F3EA6FCAEE086C.d.7EC1EF41E74C3CF7F346D91985D5EB6E.e.129\")>,\n",
       " <selenium.webdriver.remote.webelement.WebElement (session=\"b66fe26da611f629390715dd7b1fe322\", element=\"f.3F3D6BB766B794CAB8F3EA6FCAEE086C.d.7EC1EF41E74C3CF7F346D91985D5EB6E.e.130\")>,\n",
       " <selenium.webdriver.remote.webelement.WebElement (session=\"b66fe26da611f629390715dd7b1fe322\", element=\"f.3F3D6BB766B794CAB8F3EA6FCAEE086C.d.7EC1EF41E74C3CF7F346D91985D5EB6E.e.131\")>]"
      ]
     },
     "execution_count": 18,
     "metadata": {},
     "output_type": "execute_result"
    }
   ],
   "source": [
    "elements"
   ]
  },
  {
   "cell_type": "code",
   "execution_count": 19,
   "id": "4985b8c6-a97b-49a6-95fe-e34bbea6c114",
   "metadata": {},
   "outputs": [
    {
     "data": {
      "text/plain": [
       "'Dean\\nVSIT'"
      ]
     },
     "execution_count": 19,
     "metadata": {},
     "output_type": "execute_result"
    }
   ],
   "source": [
    "elements[1].text"
   ]
  },
  {
   "cell_type": "code",
   "execution_count": 20,
   "id": "c392fb26-f98c-4a82-b29b-ca3d294a1fba",
   "metadata": {},
   "outputs": [
    {
     "data": {
      "text/plain": [
       "46"
      ]
     },
     "execution_count": 20,
     "metadata": {},
     "output_type": "execute_result"
    }
   ],
   "source": [
    "Department = []\n",
    "i=0\n",
    "len(elements)"
   ]
  },
  {
   "cell_type": "code",
   "execution_count": 21,
   "id": "9f92936d-4d23-4254-90f7-49bb4fc90de7",
   "metadata": {},
   "outputs": [],
   "source": [
    "for i in range(46):\n",
    "    Department.append(elements[i].text.replace('\\n', ' '))"
   ]
  },
  {
   "cell_type": "code",
   "execution_count": 22,
   "id": "7f6ea38e-e556-43b0-959c-47ef42ae8c3b",
   "metadata": {},
   "outputs": [
    {
     "data": {
      "text/plain": [
       "['Chairperson & Professor VSIT',\n",
       " 'Dean VSIT',\n",
       " 'Professor VSIT',\n",
       " 'Professor VSIT',\n",
       " 'Associate Professor VSIT',\n",
       " 'Associate Professor VSIT',\n",
       " 'Associate Professor VSIT',\n",
       " 'Associate Professor VSIT',\n",
       " 'Associate Professor VSIT',\n",
       " 'Associate Professor VSIT',\n",
       " 'Associate Professor VSIT',\n",
       " 'Associate professor VSIT',\n",
       " 'Associate Professor VSIT',\n",
       " 'Assistant Professor VSIT',\n",
       " 'Assistant Professor VSIT',\n",
       " 'Assistant Professor VSIT',\n",
       " 'Assistant Professor VSIT',\n",
       " 'Assistant Professor VSIT',\n",
       " 'Assistant Professor VSIT',\n",
       " 'Assistant Professor VSIT',\n",
       " 'Assistant Professor VSIT',\n",
       " 'Assistant Professor VSIT',\n",
       " 'Assistant Professor VSIT',\n",
       " 'Assistant Professor VSIT',\n",
       " 'Assistant Professor VSIT',\n",
       " 'Assistant Professor VSIT',\n",
       " 'Assistant Professor VSIT',\n",
       " 'Assistant Professor VSIT',\n",
       " 'Assistant Professor VSIT',\n",
       " 'Assistant Professor VSIT',\n",
       " 'Assistant Professor VSIT',\n",
       " 'Assistant Professor VSIT',\n",
       " 'Assistant Professor VSIT',\n",
       " 'Assistant Professor VSIT',\n",
       " 'Assistant Professor VSIT',\n",
       " 'Assistant Professor VSIT',\n",
       " 'Assistant Professor VSIT',\n",
       " 'Assistant Professor VSIT',\n",
       " 'Assistant Professor VSIT',\n",
       " 'Assistant Professor VSIT',\n",
       " 'Assistant Professor VSIT',\n",
       " 'Assistant Professor VSIT',\n",
       " 'Assistant Professor VSIT',\n",
       " 'Assistant Professor VSIT',\n",
       " 'Assistant Professor VSIT',\n",
       " 'Assistant Professor VSIT']"
      ]
     },
     "execution_count": 22,
     "metadata": {},
     "output_type": "execute_result"
    }
   ],
   "source": [
    "Department"
   ]
  },
  {
   "cell_type": "code",
   "execution_count": 23,
   "id": "3b990a8f-7496-4613-a7eb-259f4ae29ba3",
   "metadata": {},
   "outputs": [],
   "source": [
    "import pandas as pd\n",
    "df = pd.DataFrame({\n",
    "    'Professors':Professors,\n",
    "    'Department':Department\n",
    "})"
   ]
  },
  {
   "cell_type": "code",
   "execution_count": 24,
   "id": "7648d97c-7f67-4a48-b886-afee7b050889",
   "metadata": {},
   "outputs": [
    {
     "data": {
      "text/html": [
       "<div>\n",
       "<style scoped>\n",
       "    .dataframe tbody tr th:only-of-type {\n",
       "        vertical-align: middle;\n",
       "    }\n",
       "\n",
       "    .dataframe tbody tr th {\n",
       "        vertical-align: top;\n",
       "    }\n",
       "\n",
       "    .dataframe thead th {\n",
       "        text-align: right;\n",
       "    }\n",
       "</style>\n",
       "<table border=\"1\" class=\"dataframe\">\n",
       "  <thead>\n",
       "    <tr style=\"text-align: right;\">\n",
       "      <th></th>\n",
       "      <th>Professors</th>\n",
       "      <th>Department</th>\n",
       "    </tr>\n",
       "  </thead>\n",
       "  <tbody>\n",
       "    <tr>\n",
       "      <th>0</th>\n",
       "      <td>Prof.(Dr.) Supriya Madan</td>\n",
       "      <td>Chairperson &amp; Professor VSIT</td>\n",
       "    </tr>\n",
       "    <tr>\n",
       "      <th>1</th>\n",
       "      <td>Prof(Dr) Deepali Kamthania</td>\n",
       "      <td>Dean VSIT</td>\n",
       "    </tr>\n",
       "    <tr>\n",
       "      <th>2</th>\n",
       "      <td>Prof(Dr) Mamta Madan</td>\n",
       "      <td>Professor VSIT</td>\n",
       "    </tr>\n",
       "    <tr>\n",
       "      <th>3</th>\n",
       "      <td>Dr Pooja Saigal</td>\n",
       "      <td>Professor VSIT</td>\n",
       "    </tr>\n",
       "    <tr>\n",
       "      <th>4</th>\n",
       "      <td>Dr Pawan Whig</td>\n",
       "      <td>Associate Professor VSIT</td>\n",
       "    </tr>\n",
       "    <tr>\n",
       "      <th>5</th>\n",
       "      <td>Dr Rajan Gupta</td>\n",
       "      <td>Associate Professor VSIT</td>\n",
       "    </tr>\n",
       "    <tr>\n",
       "      <th>6</th>\n",
       "      <td>Dr Pooja Thakar</td>\n",
       "      <td>Associate Professor VSIT</td>\n",
       "    </tr>\n",
       "    <tr>\n",
       "      <th>7</th>\n",
       "      <td>Dr Dheeraj Malhotra</td>\n",
       "      <td>Associate Professor VSIT</td>\n",
       "    </tr>\n",
       "    <tr>\n",
       "      <th>8</th>\n",
       "      <td>Dr Neha Verma Malhotra</td>\n",
       "      <td>Associate Professor VSIT</td>\n",
       "    </tr>\n",
       "    <tr>\n",
       "      <th>9</th>\n",
       "      <td>Dr Meenu Chopra</td>\n",
       "      <td>Associate Professor VSIT</td>\n",
       "    </tr>\n",
       "    <tr>\n",
       "      <th>10</th>\n",
       "      <td>Dr Neha Goel</td>\n",
       "      <td>Associate Professor VSIT</td>\n",
       "    </tr>\n",
       "    <tr>\n",
       "      <th>11</th>\n",
       "      <td>Dr Kanta Malik</td>\n",
       "      <td>Associate professor VSIT</td>\n",
       "    </tr>\n",
       "    <tr>\n",
       "      <th>12</th>\n",
       "      <td>Dr Neetu Goel</td>\n",
       "      <td>Associate Professor VSIT</td>\n",
       "    </tr>\n",
       "    <tr>\n",
       "      <th>13</th>\n",
       "      <td>Dr Indu Sahu</td>\n",
       "      <td>Assistant Professor VSIT</td>\n",
       "    </tr>\n",
       "    <tr>\n",
       "      <th>14</th>\n",
       "      <td>Dr Vani Nijhawan</td>\n",
       "      <td>Assistant Professor VSIT</td>\n",
       "    </tr>\n",
       "    <tr>\n",
       "      <th>15</th>\n",
       "      <td>Ms Priyanka Gupta</td>\n",
       "      <td>Assistant Professor VSIT</td>\n",
       "    </tr>\n",
       "    <tr>\n",
       "      <th>16</th>\n",
       "      <td>Ms Aastha bhardwaj</td>\n",
       "      <td>Assistant Professor VSIT</td>\n",
       "    </tr>\n",
       "    <tr>\n",
       "      <th>17</th>\n",
       "      <td>Dr Alpna Sharma</td>\n",
       "      <td>Assistant Professor VSIT</td>\n",
       "    </tr>\n",
       "    <tr>\n",
       "      <th>18</th>\n",
       "      <td>Dr Anupama Jha</td>\n",
       "      <td>Assistant Professor VSIT</td>\n",
       "    </tr>\n",
       "    <tr>\n",
       "      <th>19</th>\n",
       "      <td>Ms Shailee Bhatia</td>\n",
       "      <td>Assistant Professor VSIT</td>\n",
       "    </tr>\n",
       "    <tr>\n",
       "      <th>20</th>\n",
       "      <td>Dr Cosmena Mahapatra</td>\n",
       "      <td>Assistant Professor VSIT</td>\n",
       "    </tr>\n",
       "    <tr>\n",
       "      <th>21</th>\n",
       "      <td>Dr Sandhya Sharma</td>\n",
       "      <td>Assistant Professor VSIT</td>\n",
       "    </tr>\n",
       "    <tr>\n",
       "      <th>22</th>\n",
       "      <td>Ms Prerna Ajmani</td>\n",
       "      <td>Assistant Professor VSIT</td>\n",
       "    </tr>\n",
       "    <tr>\n",
       "      <th>23</th>\n",
       "      <td>Dr Sakshi Khullar</td>\n",
       "      <td>Assistant Professor VSIT</td>\n",
       "    </tr>\n",
       "    <tr>\n",
       "      <th>24</th>\n",
       "      <td>Dr Yogita Thareja</td>\n",
       "      <td>Assistant Professor VSIT</td>\n",
       "    </tr>\n",
       "    <tr>\n",
       "      <th>25</th>\n",
       "      <td>Ms Mitanshi Rustagi</td>\n",
       "      <td>Assistant Professor VSIT</td>\n",
       "    </tr>\n",
       "    <tr>\n",
       "      <th>26</th>\n",
       "      <td>Ms Tanvi Dalal</td>\n",
       "      <td>Assistant Professor VSIT</td>\n",
       "    </tr>\n",
       "    <tr>\n",
       "      <th>27</th>\n",
       "      <td>Dr Shalini Bhartiya</td>\n",
       "      <td>Assistant Professor VSIT</td>\n",
       "    </tr>\n",
       "    <tr>\n",
       "      <th>28</th>\n",
       "      <td>Ms Chhaya Gupta</td>\n",
       "      <td>Assistant Professor VSIT</td>\n",
       "    </tr>\n",
       "    <tr>\n",
       "      <th>29</th>\n",
       "      <td>Dr Dimple Chawla</td>\n",
       "      <td>Assistant Professor VSIT</td>\n",
       "    </tr>\n",
       "    <tr>\n",
       "      <th>30</th>\n",
       "      <td>Dr Iti Batra</td>\n",
       "      <td>Assistant Professor VSIT</td>\n",
       "    </tr>\n",
       "    <tr>\n",
       "      <th>31</th>\n",
       "      <td>Ms Anuja Jain</td>\n",
       "      <td>Assistant Professor VSIT</td>\n",
       "    </tr>\n",
       "    <tr>\n",
       "      <th>32</th>\n",
       "      <td>Ms Swati Jain</td>\n",
       "      <td>Assistant Professor VSIT</td>\n",
       "    </tr>\n",
       "    <tr>\n",
       "      <th>33</th>\n",
       "      <td>Dr Neha Gupta</td>\n",
       "      <td>Assistant Professor VSIT</td>\n",
       "    </tr>\n",
       "    <tr>\n",
       "      <th>34</th>\n",
       "      <td>Mr Raj Kumar Sharma</td>\n",
       "      <td>Assistant Professor VSIT</td>\n",
       "    </tr>\n",
       "    <tr>\n",
       "      <th>35</th>\n",
       "      <td>Mr Anil Tandon</td>\n",
       "      <td>Assistant Professor VSIT</td>\n",
       "    </tr>\n",
       "    <tr>\n",
       "      <th>36</th>\n",
       "      <td>Ms Rachna Jain</td>\n",
       "      <td>Assistant Professor VSIT</td>\n",
       "    </tr>\n",
       "    <tr>\n",
       "      <th>37</th>\n",
       "      <td>Mr Rahul Kumar</td>\n",
       "      <td>Assistant Professor VSIT</td>\n",
       "    </tr>\n",
       "    <tr>\n",
       "      <th>38</th>\n",
       "      <td>Ms Smita Mittal Kashyap</td>\n",
       "      <td>Assistant Professor VSIT</td>\n",
       "    </tr>\n",
       "    <tr>\n",
       "      <th>39</th>\n",
       "      <td>Mr Ashok</td>\n",
       "      <td>Assistant Professor VSIT</td>\n",
       "    </tr>\n",
       "    <tr>\n",
       "      <th>40</th>\n",
       "      <td>Ms Soni Jain</td>\n",
       "      <td>Assistant Professor VSIT</td>\n",
       "    </tr>\n",
       "    <tr>\n",
       "      <th>41</th>\n",
       "      <td>Dr Gunjan Agarwal</td>\n",
       "      <td>Assistant Professor VSIT</td>\n",
       "    </tr>\n",
       "    <tr>\n",
       "      <th>42</th>\n",
       "      <td>Mr Sumit Anand</td>\n",
       "      <td>Assistant Professor VSIT</td>\n",
       "    </tr>\n",
       "    <tr>\n",
       "      <th>43</th>\n",
       "      <td>Ms Bhawna Sehgal</td>\n",
       "      <td>Assistant Professor VSIT</td>\n",
       "    </tr>\n",
       "    <tr>\n",
       "      <th>44</th>\n",
       "      <td>Ms Megha Bansal</td>\n",
       "      <td>Assistant Professor VSIT</td>\n",
       "    </tr>\n",
       "    <tr>\n",
       "      <th>45</th>\n",
       "      <td>Ms Barbie Bansal</td>\n",
       "      <td>Assistant Professor VSIT</td>\n",
       "    </tr>\n",
       "  </tbody>\n",
       "</table>\n",
       "</div>"
      ],
      "text/plain": [
       "                    Professors                    Department\n",
       "0     Prof.(Dr.) Supriya Madan  Chairperson & Professor VSIT\n",
       "1   Prof(Dr) Deepali Kamthania                     Dean VSIT\n",
       "2         Prof(Dr) Mamta Madan                Professor VSIT\n",
       "3              Dr Pooja Saigal                Professor VSIT\n",
       "4                Dr Pawan Whig      Associate Professor VSIT\n",
       "5               Dr Rajan Gupta      Associate Professor VSIT\n",
       "6              Dr Pooja Thakar      Associate Professor VSIT\n",
       "7          Dr Dheeraj Malhotra      Associate Professor VSIT\n",
       "8       Dr Neha Verma Malhotra      Associate Professor VSIT\n",
       "9              Dr Meenu Chopra      Associate Professor VSIT\n",
       "10                Dr Neha Goel      Associate Professor VSIT\n",
       "11              Dr Kanta Malik      Associate professor VSIT\n",
       "12               Dr Neetu Goel      Associate Professor VSIT\n",
       "13                Dr Indu Sahu      Assistant Professor VSIT\n",
       "14            Dr Vani Nijhawan      Assistant Professor VSIT\n",
       "15           Ms Priyanka Gupta      Assistant Professor VSIT\n",
       "16          Ms Aastha bhardwaj      Assistant Professor VSIT\n",
       "17             Dr Alpna Sharma      Assistant Professor VSIT\n",
       "18              Dr Anupama Jha      Assistant Professor VSIT\n",
       "19           Ms Shailee Bhatia      Assistant Professor VSIT\n",
       "20        Dr Cosmena Mahapatra      Assistant Professor VSIT\n",
       "21           Dr Sandhya Sharma      Assistant Professor VSIT\n",
       "22            Ms Prerna Ajmani      Assistant Professor VSIT\n",
       "23           Dr Sakshi Khullar      Assistant Professor VSIT\n",
       "24           Dr Yogita Thareja      Assistant Professor VSIT\n",
       "25         Ms Mitanshi Rustagi      Assistant Professor VSIT\n",
       "26              Ms Tanvi Dalal      Assistant Professor VSIT\n",
       "27         Dr Shalini Bhartiya      Assistant Professor VSIT\n",
       "28             Ms Chhaya Gupta      Assistant Professor VSIT\n",
       "29            Dr Dimple Chawla      Assistant Professor VSIT\n",
       "30                Dr Iti Batra      Assistant Professor VSIT\n",
       "31               Ms Anuja Jain      Assistant Professor VSIT\n",
       "32               Ms Swati Jain      Assistant Professor VSIT\n",
       "33               Dr Neha Gupta      Assistant Professor VSIT\n",
       "34         Mr Raj Kumar Sharma      Assistant Professor VSIT\n",
       "35              Mr Anil Tandon      Assistant Professor VSIT\n",
       "36              Ms Rachna Jain      Assistant Professor VSIT\n",
       "37              Mr Rahul Kumar      Assistant Professor VSIT\n",
       "38     Ms Smita Mittal Kashyap      Assistant Professor VSIT\n",
       "39                    Mr Ashok      Assistant Professor VSIT\n",
       "40                Ms Soni Jain      Assistant Professor VSIT\n",
       "41           Dr Gunjan Agarwal      Assistant Professor VSIT\n",
       "42              Mr Sumit Anand      Assistant Professor VSIT\n",
       "43            Ms Bhawna Sehgal      Assistant Professor VSIT\n",
       "44             Ms Megha Bansal      Assistant Professor VSIT\n",
       "45            Ms Barbie Bansal      Assistant Professor VSIT"
      ]
     },
     "execution_count": 24,
     "metadata": {},
     "output_type": "execute_result"
    }
   ],
   "source": [
    "df"
   ]
  },
  {
   "cell_type": "code",
   "execution_count": null,
   "id": "f68ebd44-4722-4ea6-b186-8e68800a1d17",
   "metadata": {},
   "outputs": [],
   "source": [
    "element = "
   ]
  }
 ],
 "metadata": {
  "kernelspec": {
   "display_name": "Python 3 (ipykernel)",
   "language": "python",
   "name": "python3"
  },
  "language_info": {
   "codemirror_mode": {
    "name": "ipython",
    "version": 3
   },
   "file_extension": ".py",
   "mimetype": "text/x-python",
   "name": "python",
   "nbconvert_exporter": "python",
   "pygments_lexer": "ipython3",
   "version": "3.11.7"
  }
 },
 "nbformat": 4,
 "nbformat_minor": 5
}
