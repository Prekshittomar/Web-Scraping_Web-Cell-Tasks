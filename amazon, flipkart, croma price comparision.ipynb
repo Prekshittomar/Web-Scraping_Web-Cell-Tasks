{
 "cells": [
  {
   "cell_type": "code",
   "execution_count": 6,
   "id": "9efb98f0-f6bc-4179-8cb8-be8bd8b98fdc",
   "metadata": {},
   "outputs": [],
   "source": [
    "import os\n",
    "from selenium.webdriver import Edge  # Correct import for Edge WebDriver\n",
    "from selenium.webdriver.edge.service import Service\n",
    "from selenium.webdriver.edge.options import Options\n",
    "import requests\n",
    "from selenium.webdriver.common.by import By\n"
   ]
  },
  {
   "cell_type": "code",
   "execution_count": 11,
   "id": "34d00f38-e086-487b-a27c-0256eb6e46b8",
   "metadata": {},
   "outputs": [
    {
     "name": "stdin",
     "output_type": "stream",
     "text": [
      "Enter your product :  apple iphone 15\n"
     ]
    },
    {
     "name": "stdout",
     "output_type": "stream",
     "text": [
      "Amazon price for Apple iPhone 15 (128 GB) - Black is 69,900 Rupees\n",
      "flipkart price for Apple iPhone 15 (Pink, 128 GB) is ₹64,999 Rupees\n",
      "Croma price for Apple iPhone 15 (128GB, Black) is ₹69,900 Rupees\n"
     ]
    }
   ],
   "source": [
    "product_name = input(\"Enter your product : \")\n",
    "user_agent = 'Enter your own user agent'\n",
    "\n",
    "# Path to your msedgedriver.exe\n",
    "edge_driver_path = os.path.join(os.getcwd(), 'msedgedriver.exe')\n",
    "\n",
    "# Create a Service object for Edge\n",
    "edge_service = Service(edge_driver_path)\n",
    "\n",
    "# Set up Edge options (e.g., user-agent)\n",
    "edge_options = Options()\n",
    "edge_options.add_argument(f'user-agent={user_agent}')\n",
    "\n",
    "# Initialize the Edge browser using correct WebDriver\n",
    "amazon_browser = Edge(service=edge_service, options=edge_options)\n",
    "flipkart_browser = Edge(service=edge_service, options=edge_options)\n",
    "croma_browser = Edge(service=edge_service, options=edge_options)\n",
    "\n",
    "amazon_browser.get('https://www.amazon.in/s?k='+product_name.replace(' ','+'))\n",
    "flipkart_browser.get('https://www.flipkart.com/search?q='+product_name.replace(' ','%20'))\n",
    "croma_browser.get('https://www.croma.com/searchB?q='+product_name.replace(' ','%20'))\n",
    "\n",
    "title_amazon = amazon_browser.find_element(By.CSS_SELECTOR, \"span.a-size-medium.a-color-base.a-text-normal\")\n",
    "title_flipkart = flipkart_browser.find_element(By.CSS_SELECTOR, \"div.KzDlHZ\")\n",
    "title_croma = croma_browser.find_element(By.XPATH, \"//a[@rel='noopener noreferrer']\")\n",
    "\n",
    "price_amazon = amazon_browser.find_element(By.CSS_SELECTOR, \"span.a-price-whole\")\n",
    "price_flipkart = flipkart_browser.find_element(By.CSS_SELECTOR, \"div.Nx9bqj._4b5DiR\")\n",
    "price_croma = croma_browser.find_element(By.CSS_SELECTOR, \"span.amount.plp-srp-new-amount\")\n",
    "\n",
    "print(\"Amazon price for\", title_amazon.text, \"is\", price_amazon.text,\"Rupees\")\n",
    "print(\"flipkart price for\", title_flipkart.text, \"is\", price_flipkart.text,\"Rupees\")\n",
    "print(\"Croma price for\", title_croma.text, \"is\", price_croma.text,\"Rupees\")\n"
   ]
  },
  {
   "cell_type": "code",
   "execution_count": null,
   "id": "a02d2bca-a8fc-44de-9320-b7a800a624fc",
   "metadata": {},
   "outputs": [],
   "source": []
  }
 ],
 "metadata": {
  "kernelspec": {
   "display_name": "Python 3 (ipykernel)",
   "language": "python",
   "name": "python3"
  },
  "language_info": {
   "codemirror_mode": {
    "name": "ipython",
    "version": 3
   },
   "file_extension": ".py",
   "mimetype": "text/x-python",
   "name": "python",
   "nbconvert_exporter": "python",
   "pygments_lexer": "ipython3",
   "version": "3.11.7"
  }
 },
 "nbformat": 4,
 "nbformat_minor": 5
}
