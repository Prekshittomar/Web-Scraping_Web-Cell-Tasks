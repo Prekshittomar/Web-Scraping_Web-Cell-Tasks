{
  "nbformat": 4,
  "nbformat_minor": 0,
  "metadata": {
    "colab": {
      "provenance": []
    },
    "kernelspec": {
      "name": "python3",
      "display_name": "Python 3"
    },
    "language_info": {
      "name": "python"
    }
  },
  "cells": [
    {
      "cell_type": "code",
      "source": [
        "from bs4 import BeautifulSoup\n",
        "import requests\n"
      ],
      "metadata": {
        "id": "Zq8CedDOqv9B"
      },
      "execution_count": null,
      "outputs": []
    },
    {
      "cell_type": "code",
      "source": [
        "URL = 'https://www.sharda.ac.in/faculty/'\n",
        "\n",
        "HEADERS = ({'User-Agent':'Enter your own user Agent','Accept-Language':'en-US, en;q=0.5'})\n",
        "\n",
        "webpage=requests.get(URL,headers=HEADERS)\n"
      ],
      "metadata": {
        "id": "TopqSQkwtJys"
      },
      "execution_count": null,
      "outputs": []
    },
    {
      "cell_type": "code",
      "source": [
        "webpage"
      ],
      "metadata": {
        "colab": {
          "base_uri": "https://localhost:8080/"
        },
        "id": "6oYpGvAatq5Z",
        "outputId": "b5d513d5-d0fc-4f0b-b4a4-b9fcfbe74f6a"
      },
      "execution_count": null,
      "outputs": [
        {
          "output_type": "execute_result",
          "data": {
            "text/plain": [
              "<Response [200]>"
            ]
          },
          "metadata": {},
          "execution_count": 3
        }
      ]
    },
    {
      "cell_type": "code",
      "source": [
        "soup = BeautifulSoup(webpage.content, \"html.parser\")"
      ],
      "metadata": {
        "id": "8UnWlJI9tsg2"
      },
      "execution_count": null,
      "outputs": []
    },
    {
      "cell_type": "code",
      "source": [
        "type(soup)"
      ],
      "metadata": {
        "colab": {
          "base_uri": "https://localhost:8080/",
          "height": 186
        },
        "id": "8DLA2CYLt1qV",
        "outputId": "d015ba6d-17fb-44d9-9335-1f0c6e96fb7c"
      },
      "execution_count": null,
      "outputs": [
        {
          "output_type": "execute_result",
          "data": {
            "text/plain": [
              "bs4.BeautifulSoup"
            ],
            "text/html": [
              "<div style=\"max-width:800px; border: 1px solid var(--colab-border-color);\"><style>\n",
              "      pre.function-repr-contents {\n",
              "        overflow-x: auto;\n",
              "        padding: 8px 12px;\n",
              "        max-height: 500px;\n",
              "      }\n",
              "\n",
              "      pre.function-repr-contents.function-repr-contents-collapsed {\n",
              "        cursor: pointer;\n",
              "        max-height: 100px;\n",
              "      }\n",
              "    </style>\n",
              "    <pre style=\"white-space: initial; background:\n",
              "         var(--colab-secondary-surface-color); padding: 8px 12px;\n",
              "         border-bottom: 1px solid var(--colab-border-color);\"><b>bs4.BeautifulSoup</b><br/>def __call__(*args, **kwargs)</pre><pre class=\"function-repr-contents function-repr-contents-collapsed\" style=\"\"><a class=\"filepath\" style=\"display:none\" href=\"#\">/usr/local/lib/python3.10/dist-packages/bs4/__init__.py</a>A data structure representing a parsed HTML or XML document.\n",
              "\n",
              "Most of the methods you&#x27;ll call on a BeautifulSoup object are inherited from\n",
              "PageElement or Tag.\n",
              "\n",
              "Internally, this class defines the basic interface called by the\n",
              "tree builders when converting an HTML/XML document into a data\n",
              "structure. The interface abstracts away the differences between\n",
              "parsers. To write a new tree builder, you&#x27;ll need to understand\n",
              "these methods as a whole.\n",
              "\n",
              "These methods will be called by the BeautifulSoup constructor:\n",
              "  * reset()\n",
              "  * feed(markup)\n",
              "\n",
              "The tree builder may call these methods from its feed() implementation:\n",
              "  * handle_starttag(name, attrs) # See note about return value\n",
              "  * handle_endtag(name)\n",
              "  * handle_data(data) # Appends to the current data node\n",
              "  * endData(containerClass) # Ends the current data node\n",
              "\n",
              "No matter how complicated the underlying parser is, you should be\n",
              "able to build a tree using &#x27;start tag&#x27; events, &#x27;end tag&#x27; events,\n",
              "&#x27;data&#x27; events, and &quot;done with data&quot; events.\n",
              "\n",
              "If you encounter an empty-element tag (aka a self-closing tag,\n",
              "like HTML&#x27;s &lt;br&gt; tag), call handle_starttag and then\n",
              "handle_endtag.</pre>\n",
              "      <script>\n",
              "      if (google.colab.kernel.accessAllowed && google.colab.files && google.colab.files.view) {\n",
              "        for (const element of document.querySelectorAll('.filepath')) {\n",
              "          element.style.display = 'block'\n",
              "          element.onclick = (event) => {\n",
              "            event.preventDefault();\n",
              "            event.stopPropagation();\n",
              "            google.colab.files.view(element.textContent, 76);\n",
              "          };\n",
              "        }\n",
              "      }\n",
              "      for (const element of document.querySelectorAll('.function-repr-contents')) {\n",
              "        element.onclick = (event) => {\n",
              "          event.preventDefault();\n",
              "          event.stopPropagation();\n",
              "          element.classList.toggle('function-repr-contents-collapsed');\n",
              "        };\n",
              "      }\n",
              "      </script>\n",
              "      </div>"
            ]
          },
          "metadata": {},
          "execution_count": 5
        }
      ]
    },
    {
      "cell_type": "code",
      "source": [
        "samples = soup.find_all('div',attrs={'col-sm-6 col-md-3 staff-container'})"
      ],
      "metadata": {
        "id": "XKApl4NvuYg7"
      },
      "execution_count": null,
      "outputs": []
    },
    {
      "cell_type": "code",
      "source": [
        "samples[0]"
      ],
      "metadata": {
        "colab": {
          "base_uri": "https://localhost:8080/"
        },
        "id": "cIW5VLpyPQCZ",
        "outputId": "02f511c5-ca59-4ecf-e8ce-ade9ffbcfb9c"
      },
      "execution_count": null,
      "outputs": [
        {
          "output_type": "execute_result",
          "data": {
            "text/plain": [
              "<div class=\"col-sm-6 col-md-3 staff-container\">\n",
              "<!-- User Box -->\n",
              "<div class=\"user-box dean\">\n",
              "<span class=\"tag\">dean</span>\n",
              "<figure>\n",
              "<a href=\"https://www.sharda.ac.in/faculty/details/nirupmagupta\"><img alt=\"Dr. Nirupma Gupta\" src=\"https://www.sharda.ac.in/attachments/faculty_images/dsw.jpg\"/></a>\n",
              "</figure>\n",
              "<div class=\"content\">\n",
              "<h5><a href=\"https://www.sharda.ac.in/faculty/details/nirupmagupta\" target=\"_blank\">Dr. Nirupma Gupta</a></h5>\n",
              "<p class=\"designation\"><i class=\"icon-user icons\"></i>\n",
              "<span>\n",
              "\t\t\t\t\t\t\t\t\t\t\tDean, School of Medical Sciences &amp; Research</span>\n",
              "</p>\n",
              "<!--<p><i class=\"icon-envelope icons\"></i><a class=\"email\" href=\"mailto:\"></a>\n",
              "\t\t\t\t\t\t\t\t\t\t\t\t\t\t\t</p> -->\n",
              "<a class=\"clearfix\" href=\"https://www.sharda.ac.in/faculty/details/nirupmagupta\"><i class=\"icon-arrow-right-circle icons\"></i></a>\n",
              "</div>\n",
              "</div>\n",
              "<!-- /User Box -->\n",
              "</div>"
            ]
          },
          "metadata": {},
          "execution_count": 7
        }
      ]
    },
    {
      "cell_type": "code",
      "source": [
        "new_soup=BeautifulSoup(str(samples),\"html.parser\")"
      ],
      "metadata": {
        "id": "4jGpFj4IPko0"
      },
      "execution_count": null,
      "outputs": []
    },
    {
      "cell_type": "code",
      "source": [
        "new_soup.find('h5').text"
      ],
      "metadata": {
        "colab": {
          "base_uri": "https://localhost:8080/",
          "height": 35
        },
        "id": "d9pBhuo1Prih",
        "outputId": "9697bd3d-887f-4334-93bc-dd48a57fad0b"
      },
      "execution_count": null,
      "outputs": [
        {
          "output_type": "execute_result",
          "data": {
            "text/plain": [
              "'Dr. Nirupma Gupta'"
            ],
            "application/vnd.google.colaboratory.intrinsic+json": {
              "type": "string"
            }
          },
          "metadata": {},
          "execution_count": 14
        }
      ]
    },
    {
      "cell_type": "code",
      "source": [
        "Names=[]\n",
        "for sample in samples:\n",
        "  new_soup=BeautifulSoup(str(sample),\"html.parser\")\n",
        "  name = new_soup.find('h5').text\n",
        "  Names.append(name)"
      ],
      "metadata": {
        "id": "E5euG5Dkxci8"
      },
      "execution_count": null,
      "outputs": []
    },
    {
      "cell_type": "code",
      "source": [
        "len(samples)"
      ],
      "metadata": {
        "colab": {
          "base_uri": "https://localhost:8080/"
        },
        "id": "bJDlAay1xeAW",
        "outputId": "c9f3cb78-127a-4001-9fc2-f2f1b29e9e63"
      },
      "execution_count": null,
      "outputs": [
        {
          "output_type": "execute_result",
          "data": {
            "text/plain": [
              "598"
            ]
          },
          "metadata": {},
          "execution_count": 7
        }
      ]
    },
    {
      "cell_type": "code",
      "source": [
        "print(Names)"
      ],
      "metadata": {
        "colab": {
          "base_uri": "https://localhost:8080/"
        },
        "id": "2ZEnIwZqv2bT",
        "outputId": "2f93b9b8-ce06-4cfe-ff45-bd6e4bfbe9d0"
      },
      "execution_count": null,
      "outputs": [
        {
          "output_type": "stream",
          "name": "stdout",
          "text": [
            "['Dr. Nirupma Gupta', 'Prof. (Dr.) Ritu S.Sood', 'Prof. (Dr.) Arti Koul Kachroo', 'Prof. (Dr.) Dolly Wattal Dhar', 'Prof. (Dr.) M. Siddharth', 'Prof. (Dr.) Shyamal Kumar Banerjee', 'Prof. (Dr.) Anviti Gupta', 'Prof. (Dr.) Kapil Pandla', 'Prof. (Dr.) Amrish Chandra', 'Prof. (Dr.) Parma Nand', 'Dr. Karuna Singh', 'Dr. Hemant Sawhney', 'Dr. Swati Sharma', 'Prof. (Dr.) Yogendra Pratap Singh', 'Dr. Rakesh Kumar', 'Prof. Satyawada Rama Rao', 'Dr. Deepak Bhargava', 'Dr. Ekta Choudhary', 'Dr. Khursheed Alam', 'Dr. Arun Prakash Agrawal', 'Dr. Pramod Kumar Singh', 'Dr. Ashish Choudhary', 'Prof. Kiran Sharma', 'Dr. Ananda Babu Arumugam', 'Dr. Abhimanyu Kumar Jha', 'Dr. Anil Kumar Sagar', 'Prof. (Dr.) Rohit Punga', 'Dr. Pramod Kumar Singh', 'Prof. Pratima Walde', 'Prof.(Dr.) Sukhdeep Singh', 'Dr. Pawan kumar Sharma', 'Prof. (Dr.) Ruchi Jain Garg', 'Dr. Dinesh Kumar Bagga', 'Mrs. Rekha kumari', 'Dr. Poonam Bhagchandani', 'Abhay Kaushik', 'Amrita A Sivasanker', 'Dr. Anupam Agarwal', 'Dr. Sujoy Kumar Dey', 'Mr. Uppu Praveen', 'Dr. Mohit Sahni', 'Reddeppa Sreeraja kumar', 'Prof. (Dr.) Dipti Parashar', 'Dr .Pallavi Gupta', 'Dr. Rashmi Priyadarshini', 'Prof. Seyed Ehtesham Hasnain', 'Prof. Nasreen Zafar Ehtesham', 'Baishnab Charan Tripathy', 'Prof. (Dr.) Bhuvnesh Kumar', 'Prof. Prem Kumar Malhotra', 'Prof. S.C. Srivastava', 'Prof. Vijendra Singh Mahndiyan', 'Prof. Tapan Prasad Biswal', 'Prof. (Dr.) Kunal Kishor', 'Prof.(Dr.) Rahul Saxena', 'Dr. Ramesh Joshi', 'Prof. (Dr.) Sally Lukose', 'Pradeep Kumar', 'Prof. (Dr.) P. K. Aggarwal', 'Prof. (Dr.) Hari Shankar Shyam', 'Prof. Vinod Joshi', 'Dr. Satya Prakash', 'Dr. Neelam Agrawal Srivastava', 'Dr. Tarun Varshney', 'Prof.(Dr.) Manmohan Rahul', 'Sanjeev Sood', 'Dr. Pramod Kumar', 'Dr. Mehak Jonjua', 'Richa Srivastava', 'Prof. N.B.Singh', 'Dr. Anurag Hasti', 'Prof. (Dr.) Ajay Shriram Kushwaha', 'Prof. Kusumakar Sharma', 'Dr. Geeta Durga', 'Prof. (Dr.) Bhawna Mallick', 'Dr. Vinay K. Verma', 'Dr. Nakshatra Bahadur Singh', 'Dr Anoop Kumar Mukhopadhyay', 'Dr. Monica Agarwal', 'Dr. Puja Bansal', 'Dr. Ashok Kumar', 'Dr. Sachin Teotia', 'Prof. Anjali Verma', 'Dr. Shri Kant', 'Prof (Dr.) Shajee Mohan B S', 'Prof. (Dr.) Michail Barmpas', 'Dr. Nayyar Parvez', 'Dr. Tanmoy Chakraborty', 'Dr. Dhruv Sabharwal', 'Prof Bhim Singh', 'Dr. Anamika Paul', 'Alok Gupta', 'Prof (Dr) Radhey Shyam Sharma', 'Dr. Saleem  Siddiqui', 'Prof. (Dr.) Sachin Kumar Srivastava', 'Prof. (Dr.) D.S. Rana', 'Dr. Ruqaiya Khanam', 'Dr. Vasudha Arora', 'Prof. (Dr.) Raju Ch. V. Voleti', 'Dr. Amit Sehgal', 'Dr. Shradha', 'Dr. Bhupinder Singh', 'Dr. Ambuj Kumar Agarwal', 'Prof(Dr) Raju Ganesh Sunder', 'Prof. (Dr.) Kadambot H.M. Siddique', 'Prof. (Dr.) Sumesh Raizada', 'Prof. Kamal Kumar', 'Dr. Yogesh Singh Rathore', 'Dr. Swati Sah', 'Dr Mayank Shukla', 'Prof. Shashank Kumar', 'Dr. Rakesh K. Sindhu', 'Dr. Amit Kumar Singh', 'Prof. (Dr.) Prashant Agrawal', 'Prof. (Dr.) Rimple Manchanda', 'Rashid Hashmi', 'Prof. (Dr.) Arun Kumar', 'Dr Shiv Kumar Verma', 'Prof. Arun Kumar Gupta', 'Prof. (Dr.) R.C.Sharma', 'Dr. Madhukar Deshmukh', 'Prof. (Dr.) Ashok Kumar Gupta', 'Dr. Poonam Agrawal', 'Vineet Suri', 'Prof. (Dr.) Khushboo Tripathi', 'Prof. Arvind Kumar', 'Dr. Kuldeep Chouhan', 'Prof. Anita Singh', 'Dr. Ganesh Gupta', 'Prof. (Dr.) Mridul Dharwal', 'Dr. Rupendra Prakash Yadav', 'Dr. Vaishali Arora', 'Dr. Ruchi Lal', 'Dr. Divya Mishra', 'Dr. Urmila Yadav', 'Dr. Akanksha Srivastava', 'Dr. Priti Verma', 'Dr. Sarita Verma', 'Dr. Mithilesh N. Mishra', 'Dr. Munendra singh', 'Col. Vivek Shankar Mathur', 'Dr.Mohit Maurya', 'Dr.Atul Sangal', 'Dr. Brinda Chowdhari', 'Dr. Mandeep Kaur', 'Dr. Amrita', 'Dr. Gouri Shankar Mishra', 'Dr. Megha Chhabra', 'Soumi Sadhu', 'Dr. Vineet Kumar', 'Dr. Rinkal Sharma', 'Dr. Sandeep Kumar Shukla', 'Dr. Meenal Gupta', 'Dr. Vivek Srivastava', 'Dr. Ankur Agrawal', 'Dr. K. R. Gola', 'Dr. Sangeeta Gupta', 'Dr. Nimmi Agarwal', 'Dr. Rachna Bansal Jora', 'Phaneendra Nath Chaturvedi', 'Dr. Gurpyari Bhatnagar', 'Ms. Christa Mathew', 'Dr. Gunjan', 'Abhilasha Singh Mathuriya', 'Dr. Shailesh  Jain', 'Dr. Preeti Singh', 'Dr. Gaurav Raj', 'Dr. Vibha Thakur', 'Dr. Deepak Bansal', 'Jitender lal', 'Dr. Sudeep Varshney', 'Dr. Bennet Angel', 'Dr. Varun Mohan', 'Dr. Sushma Singh', 'Dr. Abhishek Singh Verma', 'Dr. Neha Awasthi', 'Dr. Dhirja Goel', 'Dr. Pallavi Sharma', 'Dr. Radhika Gupta', 'Dr. Shailesh Varshney', 'Dr. Suman Lata', 'Dr. Rishibha Bhardwaj', 'Dr. Nishant Gupta', 'Dr. Shree Harsh Attri', 'Dr. Annette Angel', 'Dr. Preeti Sharma', 'Dr. Maheshwar Pathak', 'Dr. Paul Praveen A.', 'Dr. Hariom Sharma', 'Dr. Arvind Kumar', 'Dr. Rituparna Das', 'Dr. Vidyadevi Chandavarkar', 'Dr. Raman Mishra', 'Dr. Zatin Gupta', 'Dr. Rajendra Kumar', 'Dr. Saumya Chaturvedi', 'Dr. Sachin Kumar', 'Dr. Vishal Jain', 'Dr. Nitin Bhagat', 'Dr Pushpendra Kumar Rajput', 'Dr. Amrit Kumar Agrawal', 'Dr. Subrata Sahana', 'Dr. Kennedy.S', 'Dr. Archana Chauhan', 'Dr. Satyender Kumar', 'Dr. Nidhi Gupta', 'Dr. Sweta Srivastav', 'Dr. Santosh Kumar Mishra', 'Ar. Charu Jain', 'Dr. Mahinder Singh Chauhan', 'Dr Ritu Singh', 'Dr Ashish Kumar Chakraverti', 'Dr. Sushma Kakkar', 'Dr. Archana Khanna', 'Dr. Pankaj Taneja', 'Dr Krishan Kumar', 'Dr. Shelja Sharma', 'Dr. Shipra Shukla', 'Prof. (Dr.) Nidhi Gupta', 'Dr. Bhagawan Chandra Sinha', 'Dr. Anand Pandey', 'S Shankara Narayanan', 'Dr. Satendar Singh', 'Dr. Sunil Chauhan', 'Pragya Tiwari Gupta', 'Dr. Mayank Kumar Goyal', 'Dr. Sweta Dixit', 'Dr.Inderpreet Kaur', 'Dr. Santosh Kumar', 'Dr. Pooja Tiwari', 'Dr. Shiraz Khurana', 'Ms. Sapam Debika', 'Dr. Avinash Kumar Sharma', 'Dr. Subhabrata Kar', 'Dr. S.P.S. Chauhan', 'Dr. Kumud Madan', 'Dr. Pawan Kumar Verma', 'Dr. Bhupendra Kumar Gautam', 'Dr. Ritu Chaku', 'Dr. Bharat Bhushan', 'Dr. Ali Imam Abidi', 'Dr. Yojna Arora', 'Dr.Amit Kumar Attri', 'Dr. Kapil K. Sharma', 'Sonia Setia', 'Dr. Sandeep Kumar', 'Dr. Pooja Kabra', 'Dr. Alankrita Chaudhary', 'Dr. Ruchi Gautam', 'Dr. Ritu Gautam', 'Dr. Manvendra Singh', 'Dr. Chhaya Kumar', 'Dr. Jyoti Jayal', 'Dr. Sandeep Kumar Singh', 'Dr. Rani Astya', 'Amit Kumar Upadhyay', 'Deepti Sahu', 'Dharm Raj Jaiswal', 'Gunjan Aggarwal', 'Dr. Manisha Rajoria', 'Ritu Singh', 'Dr. Sabyasachi Mukhopadhyay', 'Dr. Shaheen Naz', 'Dr. C Mohan', 'Dr. K.Jaya Chitra', 'Dr. Soma Deb', 'Dr. Akanksha Mishra', 'Arun Kumar', 'Vandana', 'R.S Ojha', 'Saigeeta Priyadarshini', 'Dr. Krishna Kumar Pandey', 'Sunil Saharan', 'Dr. Preeti Rani', 'Dr. Sandhya Gupta', 'Megha Gupta', 'Nishant Kumar', 'Dr. Mridula Guin', 'Dr. Noopur Srivastava', 'Dr. Preeti Jain', 'Dr. Sonia Khanna', 'Paratpar Sarkar', 'Dr. Ashish Saxena', 'Prof. Awanish Kumar Sinha', 'Dr. Deepa Chauhan', 'Prof. Rakesh Sharma', 'Dr. Suman', 'Dr. Deepa Kumari', 'Prof. Himanshi Puri', 'Dr. Madhu Sharma', 'Dr. Raj Karan Gupta', 'Prof. Richa Pandey', 'Dr. Santhi Narayanan', 'Dr. Saumya Kumar', 'Dr. Swati Bansal', 'Prof. Ambika Khurana', 'Prof. Chhavi Jain', 'Prof. Sandeep Kumar Anand', 'Satvinder Singh Walia', 'Dr. Lavish Kumar Singh', 'Sandeep Singh', 'Krishan Kumar', 'Dr Prachi Priyanka', 'Dr. Mukuta Borah', 'Dr. Pallavi Thakur', 'Dr. Rafraf Shakil', 'Rita Sharma', 'Bushra Khan', 'Nitesh Kumar', 'Poonam Thakur', 'Divya Upreti', 'Lakyntiew Khongrymmai', 'Veena Salilkumar Chaudhary', 'Sanjna Kumari', 'Ms. Anjali Malik', 'Dr. Sanchita Ray', 'Dr. Mukta Martolia', 'Dr. Richa Mishra', 'Dr. Jayant Kumar', 'Dr. Priyanka Sachdeva', 'Dr. Himani Sharma', 'Dr. Stuti Gupta', 'Dr. Shishir Kr. Singh', 'Dr. Shrinkhala Upadhyaya', 'Dr. Disha Maheshwari', 'Namita Sharma', 'Murari Kumar Singh', 'Dr. Keshav Gupta', 'Dr. Bishwajeet Prakash', 'Dr. Kritika Gosain', 'Dr. Sanskriti Mishra', 'Sonali Srivastava', 'Dr. Bhumika Sharma', 'Dr. Ashutosh Kumar Pandey', 'Dr.Pradeep Kumar Mishra', 'Dr. Saransh Srivastava', 'Dr. Harikrishnan M', 'Dr. Utsav Krishan Murari', 'Dr. Rahul Sharan', 'Manish Ranjan', 'Mr. Ashish Jain', 'Dr. Sweta Singh', 'Dr. Vivek Kumar Singh', 'Dr. Rohit Sharma', 'Aakanksha Singh', 'Dr. Saurabh Kishor', 'Balpreet Singh Madan', 'Smriti Singh Chauhan', 'Dr. Toran Talwar', 'Dr. Garima Chouhan', 'Dr. Shruti Singh', 'Dr. Jitin Rahul', 'Dr. Asrar Ahmad Malik', 'Ms. Priya Sharma', 'Dr. Amit Kumar', 'Dr. Jai Kishon Goswami', 'Dr. Shafali Singh', 'Dr. Siddharth Rawat', 'Mohd.Shahid Baboo', 'Dr. Sushmita Banerjee', 'Mohammad Ashraf Ali', 'Dr. Palak Mishra', 'Dr. Shashank Agarwal', 'Mrs. Hema Arya', 'Anshu Kumar', 'Amit Singh', 'Dr. Soumya Pandit', 'Prof. Anup Kumar Srivastava', 'Dr. Nidhi Sahni', 'Dr. Santosh Kumar', 'Dr. Sunita Sharma', 'Mr. Shivom', 'Neha Barari', 'Ankit Tomar', 'Prof. Shashank Bhardwaj', 'Priya Tyagi', 'Dr. Minakshi Pandey', 'Mrs. Richa Tiwari', 'Dr. Gautam Kumar', 'Ms. Neha Kashyap', 'Dr. J. Muthukumaran', 'Dr. Bhumika Kumar', 'Dr. Niraj Kumar Jha', 'Dr. Usha Tiwari', 'Dr. Sangeeta Rawal', 'Dr. Anjan Majee', 'Dr. Neha Bhardwaj', 'Dr. Prashant Kumar Shahi', 'Dr. Rajni Yadav', 'Dr. Aartika Singh', 'Dr. Richa Tomar', 'Dr. Tanu Gupta', 'Dr. Surabhi Duggal', 'Dr. Lakshmi Pandey', 'Dr. Ankita Pal', 'Dr. Ritu Sharma', 'Dr. Mohammad Junaid Alam', 'Dr. Piyush Kumar Gupta', 'Dr. K.M. Rachna', 'Dr. Surya Kant Pal', 'Dr. Milan Srivastava', 'Dr Arun Kumar', 'Dr. Mohammad Daoud Ciddikie', 'Dr. Shairy Vashist', 'Nikhat Parvez', 'Dr. Astha Gupta', 'Dr. Swati Hazra', 'Dr. Parul Khare', 'Dr. Amit K. Das', 'Jannat Ul Firdaus', 'Mayuri Rastogi', 'Dr. Sanjay Kumar', 'Meenal Dharia', 'Dr. Monika Srivastava', 'Dr. Hannah Hameed', 'Dr. Garima Nagpal', 'Dr. Pankaj Kumar Tripathi', 'Dr Poonam Kalsi', 'Dr. Ashish Kumar Chalana', 'Dr. Himani Govil', 'Dr. Subhasree Ray', 'Arti Ranjan', 'Dr. Preeti Singh', 'Dr. Anjali', 'Dr. Kanu Priya', 'Dr. Avinash Krishna Goswami', 'Preeti Patidar', 'Mr.Girish Kumar Bharati', 'Dr. Preeti Pal', 'Ms. Divya Rastogi', 'Ujjwal Srivastava', 'Vipin Sharma', 'Dr. Utpal Dhar Das', 'Dr. Chandan Singh', 'Dr. Archana Pandita', 'Dr. Monika Jain', 'Praveen Yadav', 'Dr. Gaurav Kumar', 'Dr. Saurabh Kumar Jha', 'Preeti Dubey', 'Kanika Singla', 'Dr. Sujata Pandit Sharma', 'Dr. Sunil Kumar Jaiswal', 'Dr. Hoor Fatima', 'Sukalpaa Chaki', 'Dr. Sharad Agrawal', 'Dr. Himanshu Payal', 'Sushant Jhingran', 'Dr. Bhavana Singh', 'Ms. Khushboo Zehra Naqvi', 'Praveen Jain', 'Ms. Chhabi Mohan', 'Dr. Shalu', 'Dr. Yanina Singh', 'Dr. Manisha Singh', 'Dr Sapna Mathur', 'Dr. Ankur Singh', 'Prof. D.Barani', 'Dr. Savita Rani', 'Dr. Reetu', 'Dr. Har Mohan Singh', 'Garla Venkateswarlu', 'Ishika Bhardwaj', 'Bal Krishna Saraswat', 'Sana Kanwal', 'Dr. Arvind Shanker Shukla', 'Ms. Aastha Singh', 'Baishali Pradhan', 'Ms. Iqra Javid', 'Ms. Rahamatun Nisha', 'Dr. Ravi Prakash Chaturvedi', 'Dr. Saurabh Srivastava', 'Dr. Sadhana Tiwari', 'Prof. Abhishek Chander Chanda', 'Dr. Vaishnavi Yashasvi', 'Dr. Babita Tripathi', 'Dr. Ajit Pal Singh', 'Vineeta Yadav', 'Dr. Suyash Saxena', 'Dr. Sakshi', 'Dr. Rukmani', 'Ms. Aparna Sharma', 'Dr. Bhanu Pratap Pandey', 'Dr.Ranjana Pande', 'Dr. Laxmi Gupta', 'Zoobiya Islam', 'Dr. Shashank Sharma', 'Dr. Rachna Dhingra', 'Dr.Vandana Prasad', 'Ms. Himani Tyagi', 'Dr. Rajneesh Kumar Singh', 'Dr. Ahrar Ahmad Lone', 'Dr. Pawan Singh Dhapola', 'Mr. Vikrant Choudhary', 'Prof. Rekha Prasad', 'Satakshi Choudhary', 'Dr. Rohit Kumar Tiwari', 'Dr. Saniya Zehra', 'Dr. Sakshi Shukla', 'Dr. Chaitenya Verma', 'Dr. Somprakash Dhar', 'Dr. Neeru Nagar', 'Anam Mohd. Saleem', 'Mr. Sundeep Raj', 'Dr. Sudesh Singh', 'Dr. Ajay Kumar', 'Dr. Mohd Tajammul', 'Shivani Chandra', 'Dr. Aditi Rikhari', 'Dr Vipin Solanki', 'Dr. Adil Ali Ansari', 'Ms. Kirtika Trehan', 'Sunayana kushwaha', 'Dr. Das Anamika', 'Dr. Bodduru Kamesh', 'Dr. Tanni Moitra', 'Ritu Makhija', 'Sachin Singh', 'Shivanshu Sharma', 'Vaishali Tyagi', 'Dr. Aditi Chaturvedi', 'Dr. Varun Tripathi', 'Dr. Parul Verma', 'Dr.Dil Prasad Subba', 'Dr. Gaurav Bhakri', 'Dr. Mansi Sharma', 'Dr. Sayanti Mandal', 'Dr. Vinod Kumar Pant', 'Dr.Farah Deeba', 'Dr. Shikha Verma', 'Dr. Kanak Priya', 'Dr. Divyani Panwar', 'Mohon Kumar Naik', 'Dr Khushboo Kumari', 'Mr. Aditya Dayal Tyagi', 'Priyambada Shah', 'Dr. Gaurav Kumar Singh', 'Dr. Manideepa Paul', 'Dr. Razia Chauhan', 'Mrs. Asha Rani Morla', 'Hemlata Lalia', 'Ms. Joyce Prabhudas Ranadive', 'Mr. Sanjay Kumar Sonker', 'Ms. Sapna Yadav', 'Suman Pandey', 'Ms. Archana Sharma', 'Ringkangmai Liangkiuwiliu', 'Nidhi Gupta', 'Ajeet Kumar Sharma', 'Mr. Nishant Upadhyay', 'Dr. Mohammad Salman', 'Rupal Yadav', 'Dr Ashu Kumari', 'Kiran Panchal', 'Dr. Hamid Reza Moqaddasi', 'Pankaj Sharma', 'Abhinav Nair', 'Seema Singh', 'Dr. Khagendra Nath Gangai', 'Dr. Rajesh Yadav', 'Mr. Amit Pratap Singh Chouhan', 'Dr. Mahima Shukla', 'Prof. Shadmeen Hayat', 'Ms. Surbhi Vijh', 'Ar.Ankita Saxena', 'Dr. Ankita Tiwari', 'Ms. Rosey Chauhan', 'Virendra Pal Singh', 'Dr. Surender', 'Dr. Dayanand Sharma', 'Dr. Kanchan Gupta', 'Sabahat Ali Khan', 'Dr. Nupur', 'Dr. Binayak Kumar', 'Ms. Anjali Rawat', 'Ramsha Ahmed', 'Md Khalid Jamal', 'Mr. Manoj Kumar', 'Mr. Vishvendra Pal Singh Nagar', 'Ms Khushwant Virdi', 'Mr. Virendra Kumar', 'Dr. Akhilesh Kumar Kushawaha', 'Dr. Sonakshi Singh', 'Dr Syed Arshad Ali', 'Dr. Atul Arora', 'Prof. Abhinanda Bhattacharya', 'Ms. Smita singh', 'Madhvi Sharma', 'Nongmeikapam Helena', 'Monalisha Pal', 'Bharati Saikia', 'Shubhangi Yadav', 'Moirangthem Nilima Devi', 'Mr. Amlan Banik', 'Tamanna Goyal', 'Dr. Aleema Ali', 'Dr. Rubal Singh', 'Dr. Sachin Kumar Vidhuri']\n"
          ]
        }
      ]
    },
    {
      "cell_type": "code",
      "source": [
        "temp_soup = BeautifulSoup(str(samples[0]),\"html.parser\")"
      ],
      "metadata": {
        "id": "adsHbJuZv4A-"
      },
      "execution_count": null,
      "outputs": []
    },
    {
      "cell_type": "code",
      "source": [
        "temp_soup.find('p').text.strip()"
      ],
      "metadata": {
        "colab": {
          "base_uri": "https://localhost:8080/",
          "height": 35
        },
        "id": "FLuY-IRTw6-F",
        "outputId": "bf8d3175-d0be-42e8-d2a6-0302fa5ca4cc"
      },
      "execution_count": null,
      "outputs": [
        {
          "output_type": "execute_result",
          "data": {
            "text/plain": [
              "'Dean, School of Medical Sciences & Research'"
            ],
            "application/vnd.google.colaboratory.intrinsic+json": {
              "type": "string"
            }
          },
          "metadata": {},
          "execution_count": 64
        }
      ]
    },
    {
      "cell_type": "code",
      "source": [
        "Departments=[]\n",
        "for sample in samples:\n",
        "  new_soup=BeautifulSoup(str(sample),\"html.parser\")\n",
        "  department = new_soup.find('p').text.strip()\n",
        "  Departments.append(department)"
      ],
      "metadata": {
        "id": "HacKg-XJy8QP"
      },
      "execution_count": null,
      "outputs": []
    },
    {
      "cell_type": "code",
      "source": [
        "Departments[0]"
      ],
      "metadata": {
        "colab": {
          "base_uri": "https://localhost:8080/",
          "height": 35
        },
        "id": "eCkDjni2zaB9",
        "outputId": "486301ca-2e15-4704-bca4-c667eeb309f9"
      },
      "execution_count": null,
      "outputs": [
        {
          "output_type": "execute_result",
          "data": {
            "text/plain": [
              "'Dean, School of Medical Sciences & Research'"
            ],
            "application/vnd.google.colaboratory.intrinsic+json": {
              "type": "string"
            }
          },
          "metadata": {},
          "execution_count": 67
        }
      ]
    },
    {
      "cell_type": "code",
      "source": [
        "import pandas as pd\n",
        "\n",
        "data = pd.DataFrame({\n",
        "    'Name':Names,\n",
        "    'Department':Departments\n",
        "})"
      ],
      "metadata": {
        "id": "Yo4CgSVtzbrZ"
      },
      "execution_count": null,
      "outputs": []
    },
    {
      "cell_type": "code",
      "source": [
        "data.head(10)"
      ],
      "metadata": {
        "colab": {
          "base_uri": "https://localhost:8080/",
          "height": 363
        },
        "id": "FH77_4hKzwxc",
        "outputId": "71dd1fdd-6380-4c20-8c2b-a0cfce326203"
      },
      "execution_count": null,
      "outputs": [
        {
          "output_type": "execute_result",
          "data": {
            "text/plain": [
              "                                 Name  \\\n",
              "0                   Dr. Nirupma Gupta   \n",
              "1             Prof. (Dr.) Ritu S.Sood   \n",
              "2       Prof. (Dr.) Arti Koul Kachroo   \n",
              "3       Prof. (Dr.) Dolly Wattal Dhar   \n",
              "4            Prof. (Dr.) M. Siddharth   \n",
              "5  Prof. (Dr.) Shyamal Kumar Banerjee   \n",
              "6            Prof. (Dr.) Anviti Gupta   \n",
              "7            Prof. (Dr.) Kapil Pandla   \n",
              "8          Prof. (Dr.) Amrish Chandra   \n",
              "9              Prof. (Dr.) Parma Nand   \n",
              "\n",
              "                                          Department  \n",
              "0        Dean, School of Medical Sciences & Research  \n",
              "1  Dean, Sharda School of Media, Film and Enterta...  \n",
              "2                          Dean, School of Education  \n",
              "3       Dean, Sharda School of Agricultural Sciences  \n",
              "4                    Dean, School of Dental Sciences  \n",
              "5   Dean, Sharda School of Basic Sciences & Research  \n",
              "6  Dean, Sharda School of Humanities & Social Sci...  \n",
              "7            Dean, Sharda School of Business Studies  \n",
              "8                           Dean, School of Pharmacy  \n",
              "9  Dean, Sharda School of Engineering and Technology  "
            ],
            "text/html": [
              "\n",
              "  <div id=\"df-2f03119d-c90d-4a75-9bbd-4400b50982e9\" class=\"colab-df-container\">\n",
              "    <div>\n",
              "<style scoped>\n",
              "    .dataframe tbody tr th:only-of-type {\n",
              "        vertical-align: middle;\n",
              "    }\n",
              "\n",
              "    .dataframe tbody tr th {\n",
              "        vertical-align: top;\n",
              "    }\n",
              "\n",
              "    .dataframe thead th {\n",
              "        text-align: right;\n",
              "    }\n",
              "</style>\n",
              "<table border=\"1\" class=\"dataframe\">\n",
              "  <thead>\n",
              "    <tr style=\"text-align: right;\">\n",
              "      <th></th>\n",
              "      <th>Name</th>\n",
              "      <th>Department</th>\n",
              "    </tr>\n",
              "  </thead>\n",
              "  <tbody>\n",
              "    <tr>\n",
              "      <th>0</th>\n",
              "      <td>Dr. Nirupma Gupta</td>\n",
              "      <td>Dean, School of Medical Sciences &amp; Research</td>\n",
              "    </tr>\n",
              "    <tr>\n",
              "      <th>1</th>\n",
              "      <td>Prof. (Dr.) Ritu S.Sood</td>\n",
              "      <td>Dean, Sharda School of Media, Film and Enterta...</td>\n",
              "    </tr>\n",
              "    <tr>\n",
              "      <th>2</th>\n",
              "      <td>Prof. (Dr.) Arti Koul Kachroo</td>\n",
              "      <td>Dean, School of Education</td>\n",
              "    </tr>\n",
              "    <tr>\n",
              "      <th>3</th>\n",
              "      <td>Prof. (Dr.) Dolly Wattal Dhar</td>\n",
              "      <td>Dean, Sharda School of Agricultural Sciences</td>\n",
              "    </tr>\n",
              "    <tr>\n",
              "      <th>4</th>\n",
              "      <td>Prof. (Dr.) M. Siddharth</td>\n",
              "      <td>Dean, School of Dental Sciences</td>\n",
              "    </tr>\n",
              "    <tr>\n",
              "      <th>5</th>\n",
              "      <td>Prof. (Dr.) Shyamal Kumar Banerjee</td>\n",
              "      <td>Dean, Sharda School of Basic Sciences &amp; Research</td>\n",
              "    </tr>\n",
              "    <tr>\n",
              "      <th>6</th>\n",
              "      <td>Prof. (Dr.) Anviti Gupta</td>\n",
              "      <td>Dean, Sharda School of Humanities &amp; Social Sci...</td>\n",
              "    </tr>\n",
              "    <tr>\n",
              "      <th>7</th>\n",
              "      <td>Prof. (Dr.) Kapil Pandla</td>\n",
              "      <td>Dean, Sharda School of Business Studies</td>\n",
              "    </tr>\n",
              "    <tr>\n",
              "      <th>8</th>\n",
              "      <td>Prof. (Dr.) Amrish Chandra</td>\n",
              "      <td>Dean, School of Pharmacy</td>\n",
              "    </tr>\n",
              "    <tr>\n",
              "      <th>9</th>\n",
              "      <td>Prof. (Dr.) Parma Nand</td>\n",
              "      <td>Dean, Sharda School of Engineering and Technology</td>\n",
              "    </tr>\n",
              "  </tbody>\n",
              "</table>\n",
              "</div>\n",
              "    <div class=\"colab-df-buttons\">\n",
              "\n",
              "  <div class=\"colab-df-container\">\n",
              "    <button class=\"colab-df-convert\" onclick=\"convertToInteractive('df-2f03119d-c90d-4a75-9bbd-4400b50982e9')\"\n",
              "            title=\"Convert this dataframe to an interactive table.\"\n",
              "            style=\"display:none;\">\n",
              "\n",
              "  <svg xmlns=\"http://www.w3.org/2000/svg\" height=\"24px\" viewBox=\"0 -960 960 960\">\n",
              "    <path d=\"M120-120v-720h720v720H120Zm60-500h600v-160H180v160Zm220 220h160v-160H400v160Zm0 220h160v-160H400v160ZM180-400h160v-160H180v160Zm440 0h160v-160H620v160ZM180-180h160v-160H180v160Zm440 0h160v-160H620v160Z\"/>\n",
              "  </svg>\n",
              "    </button>\n",
              "\n",
              "  <style>\n",
              "    .colab-df-container {\n",
              "      display:flex;\n",
              "      gap: 12px;\n",
              "    }\n",
              "\n",
              "    .colab-df-convert {\n",
              "      background-color: #E8F0FE;\n",
              "      border: none;\n",
              "      border-radius: 50%;\n",
              "      cursor: pointer;\n",
              "      display: none;\n",
              "      fill: #1967D2;\n",
              "      height: 32px;\n",
              "      padding: 0 0 0 0;\n",
              "      width: 32px;\n",
              "    }\n",
              "\n",
              "    .colab-df-convert:hover {\n",
              "      background-color: #E2EBFA;\n",
              "      box-shadow: 0px 1px 2px rgba(60, 64, 67, 0.3), 0px 1px 3px 1px rgba(60, 64, 67, 0.15);\n",
              "      fill: #174EA6;\n",
              "    }\n",
              "\n",
              "    .colab-df-buttons div {\n",
              "      margin-bottom: 4px;\n",
              "    }\n",
              "\n",
              "    [theme=dark] .colab-df-convert {\n",
              "      background-color: #3B4455;\n",
              "      fill: #D2E3FC;\n",
              "    }\n",
              "\n",
              "    [theme=dark] .colab-df-convert:hover {\n",
              "      background-color: #434B5C;\n",
              "      box-shadow: 0px 1px 3px 1px rgba(0, 0, 0, 0.15);\n",
              "      filter: drop-shadow(0px 1px 2px rgba(0, 0, 0, 0.3));\n",
              "      fill: #FFFFFF;\n",
              "    }\n",
              "  </style>\n",
              "\n",
              "    <script>\n",
              "      const buttonEl =\n",
              "        document.querySelector('#df-2f03119d-c90d-4a75-9bbd-4400b50982e9 button.colab-df-convert');\n",
              "      buttonEl.style.display =\n",
              "        google.colab.kernel.accessAllowed ? 'block' : 'none';\n",
              "\n",
              "      async function convertToInteractive(key) {\n",
              "        const element = document.querySelector('#df-2f03119d-c90d-4a75-9bbd-4400b50982e9');\n",
              "        const dataTable =\n",
              "          await google.colab.kernel.invokeFunction('convertToInteractive',\n",
              "                                                    [key], {});\n",
              "        if (!dataTable) return;\n",
              "\n",
              "        const docLinkHtml = 'Like what you see? Visit the ' +\n",
              "          '<a target=\"_blank\" href=https://colab.research.google.com/notebooks/data_table.ipynb>data table notebook</a>'\n",
              "          + ' to learn more about interactive tables.';\n",
              "        element.innerHTML = '';\n",
              "        dataTable['output_type'] = 'display_data';\n",
              "        await google.colab.output.renderOutput(dataTable, element);\n",
              "        const docLink = document.createElement('div');\n",
              "        docLink.innerHTML = docLinkHtml;\n",
              "        element.appendChild(docLink);\n",
              "      }\n",
              "    </script>\n",
              "  </div>\n",
              "\n",
              "\n",
              "<div id=\"df-442d9d61-ed04-4078-9932-dfa98b59aebc\">\n",
              "  <button class=\"colab-df-quickchart\" onclick=\"quickchart('df-442d9d61-ed04-4078-9932-dfa98b59aebc')\"\n",
              "            title=\"Suggest charts\"\n",
              "            style=\"display:none;\">\n",
              "\n",
              "<svg xmlns=\"http://www.w3.org/2000/svg\" height=\"24px\"viewBox=\"0 0 24 24\"\n",
              "     width=\"24px\">\n",
              "    <g>\n",
              "        <path d=\"M19 3H5c-1.1 0-2 .9-2 2v14c0 1.1.9 2 2 2h14c1.1 0 2-.9 2-2V5c0-1.1-.9-2-2-2zM9 17H7v-7h2v7zm4 0h-2V7h2v10zm4 0h-2v-4h2v4z\"/>\n",
              "    </g>\n",
              "</svg>\n",
              "  </button>\n",
              "\n",
              "<style>\n",
              "  .colab-df-quickchart {\n",
              "      --bg-color: #E8F0FE;\n",
              "      --fill-color: #1967D2;\n",
              "      --hover-bg-color: #E2EBFA;\n",
              "      --hover-fill-color: #174EA6;\n",
              "      --disabled-fill-color: #AAA;\n",
              "      --disabled-bg-color: #DDD;\n",
              "  }\n",
              "\n",
              "  [theme=dark] .colab-df-quickchart {\n",
              "      --bg-color: #3B4455;\n",
              "      --fill-color: #D2E3FC;\n",
              "      --hover-bg-color: #434B5C;\n",
              "      --hover-fill-color: #FFFFFF;\n",
              "      --disabled-bg-color: #3B4455;\n",
              "      --disabled-fill-color: #666;\n",
              "  }\n",
              "\n",
              "  .colab-df-quickchart {\n",
              "    background-color: var(--bg-color);\n",
              "    border: none;\n",
              "    border-radius: 50%;\n",
              "    cursor: pointer;\n",
              "    display: none;\n",
              "    fill: var(--fill-color);\n",
              "    height: 32px;\n",
              "    padding: 0;\n",
              "    width: 32px;\n",
              "  }\n",
              "\n",
              "  .colab-df-quickchart:hover {\n",
              "    background-color: var(--hover-bg-color);\n",
              "    box-shadow: 0 1px 2px rgba(60, 64, 67, 0.3), 0 1px 3px 1px rgba(60, 64, 67, 0.15);\n",
              "    fill: var(--button-hover-fill-color);\n",
              "  }\n",
              "\n",
              "  .colab-df-quickchart-complete:disabled,\n",
              "  .colab-df-quickchart-complete:disabled:hover {\n",
              "    background-color: var(--disabled-bg-color);\n",
              "    fill: var(--disabled-fill-color);\n",
              "    box-shadow: none;\n",
              "  }\n",
              "\n",
              "  .colab-df-spinner {\n",
              "    border: 2px solid var(--fill-color);\n",
              "    border-color: transparent;\n",
              "    border-bottom-color: var(--fill-color);\n",
              "    animation:\n",
              "      spin 1s steps(1) infinite;\n",
              "  }\n",
              "\n",
              "  @keyframes spin {\n",
              "    0% {\n",
              "      border-color: transparent;\n",
              "      border-bottom-color: var(--fill-color);\n",
              "      border-left-color: var(--fill-color);\n",
              "    }\n",
              "    20% {\n",
              "      border-color: transparent;\n",
              "      border-left-color: var(--fill-color);\n",
              "      border-top-color: var(--fill-color);\n",
              "    }\n",
              "    30% {\n",
              "      border-color: transparent;\n",
              "      border-left-color: var(--fill-color);\n",
              "      border-top-color: var(--fill-color);\n",
              "      border-right-color: var(--fill-color);\n",
              "    }\n",
              "    40% {\n",
              "      border-color: transparent;\n",
              "      border-right-color: var(--fill-color);\n",
              "      border-top-color: var(--fill-color);\n",
              "    }\n",
              "    60% {\n",
              "      border-color: transparent;\n",
              "      border-right-color: var(--fill-color);\n",
              "    }\n",
              "    80% {\n",
              "      border-color: transparent;\n",
              "      border-right-color: var(--fill-color);\n",
              "      border-bottom-color: var(--fill-color);\n",
              "    }\n",
              "    90% {\n",
              "      border-color: transparent;\n",
              "      border-bottom-color: var(--fill-color);\n",
              "    }\n",
              "  }\n",
              "</style>\n",
              "\n",
              "  <script>\n",
              "    async function quickchart(key) {\n",
              "      const quickchartButtonEl =\n",
              "        document.querySelector('#' + key + ' button');\n",
              "      quickchartButtonEl.disabled = true;  // To prevent multiple clicks.\n",
              "      quickchartButtonEl.classList.add('colab-df-spinner');\n",
              "      try {\n",
              "        const charts = await google.colab.kernel.invokeFunction(\n",
              "            'suggestCharts', [key], {});\n",
              "      } catch (error) {\n",
              "        console.error('Error during call to suggestCharts:', error);\n",
              "      }\n",
              "      quickchartButtonEl.classList.remove('colab-df-spinner');\n",
              "      quickchartButtonEl.classList.add('colab-df-quickchart-complete');\n",
              "    }\n",
              "    (() => {\n",
              "      let quickchartButtonEl =\n",
              "        document.querySelector('#df-442d9d61-ed04-4078-9932-dfa98b59aebc button');\n",
              "      quickchartButtonEl.style.display =\n",
              "        google.colab.kernel.accessAllowed ? 'block' : 'none';\n",
              "    })();\n",
              "  </script>\n",
              "</div>\n",
              "\n",
              "    </div>\n",
              "  </div>\n"
            ],
            "application/vnd.google.colaboratory.intrinsic+json": {
              "type": "dataframe",
              "variable_name": "data",
              "summary": "{\n  \"name\": \"data\",\n  \"rows\": 598,\n  \"fields\": [\n    {\n      \"column\": \"Name\",\n      \"properties\": {\n        \"dtype\": \"string\",\n        \"num_unique_values\": 595,\n        \"samples\": [\n          \"Dr. Arvind Kumar\",\n          \"Dr. Bharat Bhushan\",\n          \"Dr. Arvind Shanker Shukla\"\n        ],\n        \"semantic_type\": \"\",\n        \"description\": \"\"\n      }\n    },\n    {\n      \"column\": \"Department\",\n      \"properties\": {\n        \"dtype\": \"category\",\n        \"num_unique_values\": 26,\n        \"samples\": [\n          \"Dean, School of Pharmacy\",\n          \"Distinguished Professor\",\n          \"Dean, School of Medical Sciences & Research\"\n        ],\n        \"semantic_type\": \"\",\n        \"description\": \"\"\n      }\n    }\n  ]\n}"
            }
          },
          "metadata": {},
          "execution_count": 71
        }
      ]
    },
    {
      "cell_type": "code",
      "source": [],
      "metadata": {
        "id": "XfmW9W8izxg8"
      },
      "execution_count": null,
      "outputs": []
    }
  ]
}
